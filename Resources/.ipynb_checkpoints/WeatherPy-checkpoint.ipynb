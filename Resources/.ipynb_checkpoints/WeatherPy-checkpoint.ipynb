{
 "cells": [
  {
   "cell_type": "markdown",
   "metadata": {},
   "source": [
    "# WeatherPy\n",
    "----\n",
    "\n",
    "#### Note\n",
    "* Instructions have been included for each segment. You do not have to follow them exactly, but they are included to help you think through the steps."
   ]
  },
  {
   "cell_type": "code",
   "execution_count": 2,
   "metadata": {
    "scrolled": true
   },
   "outputs": [
    {
     "ename": "ImportError",
     "evalue": "cannot import name 'weather_api_key' from 'config' (C:\\Users\\Cemen\\anaconda3\\lib\\site-packages\\config\\__init__.py)",
     "output_type": "error",
     "traceback": [
      "\u001b[1;31m---------------------------------------------------------------------------\u001b[0m",
      "\u001b[1;31mImportError\u001b[0m                               Traceback (most recent call last)",
      "\u001b[1;32m<ipython-input-2-997519e7c1a6>\u001b[0m in \u001b[0;36m<module>\u001b[1;34m\u001b[0m\n\u001b[0;32m      9\u001b[0m \u001b[1;33m\u001b[0m\u001b[0m\n\u001b[0;32m     10\u001b[0m \u001b[1;31m# Import API key\u001b[0m\u001b[1;33m\u001b[0m\u001b[1;33m\u001b[0m\u001b[1;33m\u001b[0m\u001b[0m\n\u001b[1;32m---> 11\u001b[1;33m \u001b[1;32mfrom\u001b[0m \u001b[0mconfig\u001b[0m \u001b[1;32mimport\u001b[0m \u001b[0mweather_api_key\u001b[0m\u001b[1;33m\u001b[0m\u001b[1;33m\u001b[0m\u001b[0m\n\u001b[0m\u001b[0;32m     12\u001b[0m \u001b[1;33m\u001b[0m\u001b[0m\n\u001b[0;32m     13\u001b[0m \u001b[1;31m# Incorporated citipy to determine city based on latitude and longitude\u001b[0m\u001b[1;33m\u001b[0m\u001b[1;33m\u001b[0m\u001b[1;33m\u001b[0m\u001b[0m\n",
      "\u001b[1;31mImportError\u001b[0m: cannot import name 'weather_api_key' from 'config' (C:\\Users\\Cemen\\anaconda3\\lib\\site-packages\\config\\__init__.py)"
     ]
    }
   ],
   "source": [
    "# Dependencies and Setup\n",
    "import matplotlib.pyplot as plt\n",
    "import pandas as pd\n",
    "import numpy as np\n",
    "import requests\n",
    "import time\n",
    "from scipy.stats import linregress\n",
    "from scipy import stats\n",
    "\n",
    "# Import API key\n",
    "from config import weather_api_key\n",
    "\n",
    "# Incorporated citipy to determine city based on latitude and longitude\n",
    "from citipy import citipy\n",
    "\n",
    "# Output File (CSV)\n",
    "output_data_file = \"output_data/cities.csv\"\n",
    "\n",
    "# Range of latitudes and longitudes\n",
    "lat_range = (-90, 90)\n",
    "lng_range = (-180, 180)"
   ]
  },
  {
   "cell_type": "markdown",
   "metadata": {},
   "source": [
    "## Generate Cities List"
   ]
  },
  {
   "cell_type": "code",
   "execution_count": 2,
   "metadata": {},
   "outputs": [
    {
     "data": {
      "text/plain": [
       "609"
      ]
     },
     "execution_count": 2,
     "metadata": {},
     "output_type": "execute_result"
    }
   ],
   "source": [
    "# List for holding lat_lngs and cities\n",
    "lat_lngs = []\n",
    "cities = []\n",
    "\n",
    "# Create a set of random lat and lng combinations\n",
    "lats = np.random.uniform(lat_range[0], lat_range[1], size=1500)\n",
    "lngs = np.random.uniform(lng_range[0], lng_range[1], size=1500)\n",
    "lat_lngs = zip(lats, lngs)\n",
    "\n",
    "# Identify nearest city for each lat, lng combination\n",
    "for lat_lng in lat_lngs:\n",
    "    city = citipy.nearest_city(lat_lng[0], lat_lng[1]).city_name\n",
    "    \n",
    "    # If the city is unique, then add it to a our cities list\n",
    "    if city not in cities:\n",
    "        cities.append(city)\n",
    "\n",
    "# Print the city count to confirm sufficient count\n",
    "len(cities)"
   ]
  },
  {
   "cell_type": "code",
   "execution_count": 3,
   "metadata": {},
   "outputs": [
    {
     "data": {
      "text/plain": [
       "['taseyevo',\n",
       " 'kuche',\n",
       " 'bluff',\n",
       " 'yinchuan',\n",
       " 'council bluffs',\n",
       " 'lashio',\n",
       " 'punta arenas',\n",
       " 'rikitea',\n",
       " 'vila velha',\n",
       " 'saskylakh',\n",
       " 'illoqqortoormiut',\n",
       " 'padang',\n",
       " 'puerto ayora',\n",
       " 'ribeira grande',\n",
       " 'bredasdorp',\n",
       " 'adrar',\n",
       " 'sitka',\n",
       " 'abnub',\n",
       " 'cugir',\n",
       " 'avarua',\n",
       " 'ushuaia',\n",
       " 'bayir',\n",
       " 'saldanha',\n",
       " 'tilichiki',\n",
       " 'talnakh',\n",
       " 'hobart',\n",
       " 'venice',\n",
       " 'atuona',\n",
       " 'mbalmayo',\n",
       " 'bambous virieux',\n",
       " 'albany',\n",
       " 'yellowknife',\n",
       " 'inirida',\n",
       " 'lebu',\n",
       " 'caravelas',\n",
       " 'lolua',\n",
       " 'carnarvon',\n",
       " 'port alfred',\n",
       " 'bonavista',\n",
       " 'thinadhoo',\n",
       " 'jiazi',\n",
       " 'longlac',\n",
       " 'arraial do cabo',\n",
       " 'maumere',\n",
       " 'batagay',\n",
       " 'tuatapere',\n",
       " 'warqla',\n",
       " 'taolanaro',\n",
       " 'hermanus',\n",
       " 'saint-louis',\n",
       " 'jamestown',\n",
       " 'busselton',\n",
       " 'belaya gora',\n",
       " 'skibbereen',\n",
       " 'sentyabrskiy',\n",
       " 'qaanaaq',\n",
       " 'kapit',\n",
       " 'hobe sound',\n",
       " 'georgetown',\n",
       " 'plettenberg bay',\n",
       " 'jiddah',\n",
       " 'lagos',\n",
       " 'mataura',\n",
       " 'tuktoyaktuk',\n",
       " 'hami',\n",
       " 'kapaa',\n",
       " 'mount isa',\n",
       " 'batticaloa',\n",
       " 'berlevag',\n",
       " 'road town',\n",
       " 'beringovskiy',\n",
       " 'samusu',\n",
       " 'airai',\n",
       " 'noumea',\n",
       " 'mar del plata',\n",
       " 'attawapiskat',\n",
       " 'namatanai',\n",
       " 'belushya guba',\n",
       " 'chapais',\n",
       " 'kruisfontein',\n",
       " 'labuhan',\n",
       " 'ola',\n",
       " 'robertsport',\n",
       " 'oriximina',\n",
       " 'lukulu',\n",
       " 'port lincoln',\n",
       " 'elizabeth city',\n",
       " 'barrow',\n",
       " 'lasa',\n",
       " 'ilulissat',\n",
       " 'butaritari',\n",
       " 'la ronge',\n",
       " 'east london',\n",
       " 'tombouctou',\n",
       " 'nabire',\n",
       " 'hervey bay',\n",
       " 'nanortalik',\n",
       " 'axim',\n",
       " 'namibe',\n",
       " 'san pedro',\n",
       " 'mount gambier',\n",
       " 'chuy',\n",
       " 'leningradskiy',\n",
       " 'lata',\n",
       " 'chemin grenier',\n",
       " 'apac',\n",
       " 'meulaboh',\n",
       " 'vaitupu',\n",
       " 'kassala',\n",
       " 'polovinnoye',\n",
       " 'kodiak',\n",
       " 'tiksi',\n",
       " 'hilo',\n",
       " 'sungaipenuh',\n",
       " 'tura',\n",
       " 'gurlan',\n",
       " 'codrington',\n",
       " 'upernavik',\n",
       " 'chokurdakh',\n",
       " 'berdigestyakh',\n",
       " 'pacific grove',\n",
       " 'matara',\n",
       " 'saint-pierre',\n",
       " 'marovoay',\n",
       " 'linxia',\n",
       " 'lompoc',\n",
       " 'beni mazar',\n",
       " 'sao joao da barra',\n",
       " 'san quintin',\n",
       " 'bengkulu',\n",
       " 'singaraja',\n",
       " 'hithadhoo',\n",
       " 'nikolskoye',\n",
       " 'andros town',\n",
       " 'new norfolk',\n",
       " 'cuajinicuilapa',\n",
       " 'trairi',\n",
       " 'iqaluit',\n",
       " 'evensk',\n",
       " 'provideniya',\n",
       " 'te anau',\n",
       " 'sibolga',\n",
       " 'sawtell',\n",
       " 'povenets',\n",
       " 'ous',\n",
       " 'ostrovnoy',\n",
       " 'albania',\n",
       " 'saint george',\n",
       " 'hobyo',\n",
       " 'shanhetun',\n",
       " 'tarakan',\n",
       " 'baturaja',\n",
       " 'zavyalovo',\n",
       " 'manokwari',\n",
       " 'portland',\n",
       " 'nahrin',\n",
       " 'merauke',\n",
       " 'mana',\n",
       " 'cidreira',\n",
       " 'castro',\n",
       " 'vaini',\n",
       " 'broome',\n",
       " 'lagoa',\n",
       " 'draguignan',\n",
       " 'mys shmidta',\n",
       " 'grindavik',\n",
       " 'ijui',\n",
       " 'faanui',\n",
       " 'george',\n",
       " 'krasnovishersk',\n",
       " 'grand river south east',\n",
       " 'asau',\n",
       " 'jashpurnagar',\n",
       " 'oyama',\n",
       " 'cabo san lucas',\n",
       " 'narsaq',\n",
       " 'plastun',\n",
       " 'koboldo',\n",
       " 'torbay',\n",
       " 'sao felix do xingu',\n",
       " 'broken hill',\n",
       " 'ada',\n",
       " 'kahului',\n",
       " 'atbasar',\n",
       " 'lorengau',\n",
       " 'mangrol',\n",
       " 'pisco',\n",
       " 'ajijic',\n",
       " 'olga',\n",
       " 'posse',\n",
       " 'geraldton',\n",
       " 'bakel',\n",
       " 'valparaiso',\n",
       " 'marcona',\n",
       " 'kaitangata',\n",
       " 'misratah',\n",
       " 'buraydah',\n",
       " 'bosaso',\n",
       " 'utiroa',\n",
       " 'pingliang',\n",
       " 'thompson',\n",
       " 'saint-philippe',\n",
       " 'poltavka',\n",
       " 'oga',\n",
       " 'west bay',\n",
       " 'crotone',\n",
       " 'narsimhapur',\n",
       " 'mazamari',\n",
       " 'nhulunbuy',\n",
       " 'margate',\n",
       " 'tumannyy',\n",
       " 'nemuro',\n",
       " 'khatanga',\n",
       " 'adrian',\n",
       " 'greymouth',\n",
       " 'lazaro cardenas',\n",
       " 'kavieng',\n",
       " 'singaparna',\n",
       " 'vostok',\n",
       " 'buala',\n",
       " 'bolungarvik',\n",
       " 'luderitz',\n",
       " 'dikson',\n",
       " 'dunedin',\n",
       " 'samarai',\n",
       " 'klaksvik',\n",
       " 'ballina',\n",
       " 'chertkovo',\n",
       " 'port blair',\n",
       " 'ancud',\n",
       " 'fairbanks',\n",
       " 'vestmannaeyjar',\n",
       " 'sao miguel do araguaia',\n",
       " 'tasiilaq',\n",
       " 'port elizabeth',\n",
       " 'hovd',\n",
       " 'louisbourg',\n",
       " 'quang ngai',\n",
       " 'bowen',\n",
       " 'tari',\n",
       " 'the valley',\n",
       " 'barentsburg',\n",
       " 'sao filipe',\n",
       " 'gizo',\n",
       " 'pangnirtung',\n",
       " 'palabuhanratu',\n",
       " 'isiro',\n",
       " 'sur',\n",
       " 'chifeng',\n",
       " 'ben tre',\n",
       " 'miranda',\n",
       " 'camana',\n",
       " 'naze',\n",
       " 'severo-kurilsk',\n",
       " 'tazovskiy',\n",
       " 'tougue',\n",
       " 'shubarshi',\n",
       " 'gat',\n",
       " 'los llanos de aridane',\n",
       " 'paka',\n",
       " 'rorvik',\n",
       " 'kambove',\n",
       " 'karratha',\n",
       " 'ballitoville',\n",
       " 'marsabit',\n",
       " 'esil',\n",
       " 'deputatskiy',\n",
       " 'saleaula',\n",
       " 'araouane',\n",
       " 'tawzar',\n",
       " 'rocha',\n",
       " 'mehamn',\n",
       " 'abha',\n",
       " 'port hueneme',\n",
       " 'richards bay',\n",
       " 'bairiki',\n",
       " 'esperance',\n",
       " 'marawi',\n",
       " 'matamoros',\n",
       " 'kamenka',\n",
       " 'vaxjo',\n",
       " 'hasaki',\n",
       " 'kavaratti',\n",
       " 'clyde river',\n",
       " 'norman wells',\n",
       " 'mingaora',\n",
       " 'jieshi',\n",
       " 'kenai',\n",
       " 'nizhneyansk',\n",
       " 'barmer',\n",
       " 'colomi',\n",
       " 'mahebourg',\n",
       " 'parabel',\n",
       " 'eldorado',\n",
       " 'thul',\n",
       " 'raudeberg',\n",
       " 'camrose',\n",
       " 'nouadhibou',\n",
       " 'puerto ayacucho',\n",
       " 'shakawe',\n",
       " 'wisconsin rapids',\n",
       " 'lastoursville',\n",
       " 'cabedelo',\n",
       " 'flinders',\n",
       " 'santa barbara',\n",
       " 'gavrilov-yam',\n",
       " 'cherskiy',\n",
       " 'russell',\n",
       " 'souillac',\n",
       " 'sabzevar',\n",
       " 'fukue',\n",
       " 'victoria',\n",
       " 'tsihombe',\n",
       " 'amderma',\n",
       " 'salinopolis',\n",
       " 'abbeville',\n",
       " 'ahipara',\n",
       " 'eidsvag',\n",
       " 'hambantota',\n",
       " 'pimenta bueno',\n",
       " 'outjo',\n",
       " 'aklavik',\n",
       " 'kazalinsk',\n",
       " 'stoyba',\n",
       " 'chara',\n",
       " 'ilinskiy',\n",
       " 'cayenne',\n",
       " 'arica',\n",
       " 'plonsk',\n",
       " 'bathsheba',\n",
       " 'muli',\n",
       " 'gondar',\n",
       " 'ati',\n",
       " 'filingue',\n",
       " 'kodinsk',\n",
       " 'victoria point',\n",
       " 'bodden town',\n",
       " 'torma',\n",
       " 'longyearbyen',\n",
       " 'dzhusaly',\n",
       " 'choya',\n",
       " 'hay river',\n",
       " 'san cristobal',\n",
       " 'manaus',\n",
       " 'port-gentil',\n",
       " 'aflu',\n",
       " 'awbari',\n",
       " 'khandbari',\n",
       " 'angouleme',\n",
       " 'rawson',\n",
       " 'alexander city',\n",
       " 'camapua',\n",
       " 'riyadh',\n",
       " 'luba',\n",
       " 'socorro',\n",
       " 'mananara',\n",
       " 'sinnamary',\n",
       " 'williston',\n",
       " 'kurush',\n",
       " 'rio grande',\n",
       " 'champerico',\n",
       " 'mataram',\n",
       " 'maniitsoq',\n",
       " 'dedza',\n",
       " 'san jeronimo',\n",
       " 'olafsvik',\n",
       " 'loa janan',\n",
       " 'tuxtepec',\n",
       " 'mufumbwe',\n",
       " 'vila franca do campo',\n",
       " 'balclutha',\n",
       " 'aswan',\n",
       " 'preobrazheniye',\n",
       " 'hudson bay',\n",
       " 'ochakiv',\n",
       " 'cairns',\n",
       " 'vao',\n",
       " 'labuan',\n",
       " 'celestun',\n",
       " 'cape town',\n",
       " 'krasnoselkup',\n",
       " 'luganville',\n",
       " 'mishkino',\n",
       " 'pimentel',\n",
       " 'mukdahan',\n",
       " 'nangavalli',\n",
       " 'grand centre',\n",
       " 'mgandu',\n",
       " 'dasoguz',\n",
       " 'yanam',\n",
       " 'toma',\n",
       " 'albanel',\n",
       " 'canmore',\n",
       " 'kasongo-lunda',\n",
       " 'gewane',\n",
       " 'sayyan',\n",
       " 'bac lieu',\n",
       " 'katsuura',\n",
       " 'velyka mykhaylivka',\n",
       " 'kikwit',\n",
       " 'meyungs',\n",
       " 'soure',\n",
       " 'yar-sale',\n",
       " 'kavos',\n",
       " 'gravdal',\n",
       " 'toliary',\n",
       " 'muravlenko',\n",
       " 'north bay',\n",
       " 'shakhtinsk',\n",
       " 'takoradi',\n",
       " 'harper',\n",
       " 'kandrian',\n",
       " 'gujranwala',\n",
       " 'bubaque',\n",
       " 'sindor',\n",
       " 'duluth',\n",
       " 'belmonte',\n",
       " 'aktash',\n",
       " 'avera',\n",
       " 'chimore',\n",
       " 'gushikawa',\n",
       " 'khandyga',\n",
       " 'chagda',\n",
       " 'ronnede',\n",
       " 'wagar',\n",
       " 'jibuti',\n",
       " 'touros',\n",
       " 'barbar',\n",
       " 'soyo',\n",
       " 'leh',\n",
       " 'saint-joseph',\n",
       " 'ust-ishim',\n",
       " 'poum',\n",
       " 'san jose',\n",
       " 'awjilah',\n",
       " 'boyolangu',\n",
       " 'nuevo progreso',\n",
       " 'tidore',\n",
       " 'pevek',\n",
       " 'inuvik',\n",
       " 'bonnyville',\n",
       " 'quatre cocos',\n",
       " 'necochea',\n",
       " 'ponta do sol',\n",
       " 'makakilo city',\n",
       " 'lahaina',\n",
       " 'sechura',\n",
       " 'benguela',\n",
       " 'veraval',\n",
       " 'houston',\n",
       " 'halifax',\n",
       " 'surt',\n",
       " 'nelson bay',\n",
       " 'sorong',\n",
       " 'tungkang',\n",
       " 'edgewood',\n",
       " 'boende',\n",
       " 'bang saphan',\n",
       " 'jeremie',\n",
       " 'ruwi',\n",
       " 'solnechnyy',\n",
       " 'auki',\n",
       " 'batsfjord',\n",
       " 'mende',\n",
       " 'altay',\n",
       " 'ponta delgada',\n",
       " 'vikhorevka',\n",
       " 'lensk',\n",
       " 'cortez',\n",
       " 'lasem',\n",
       " 'turhal',\n",
       " 'coquimbo',\n",
       " 'algiers',\n",
       " 'inhambane',\n",
       " 'coihaique',\n",
       " 'polunochnoye',\n",
       " 'marsa matruh',\n",
       " 'longyan',\n",
       " 'kochubey',\n",
       " 'kondinskoye',\n",
       " 'zambezi',\n",
       " 'henties bay',\n",
       " 'farafangana',\n",
       " 'inderborskiy',\n",
       " 'gambo',\n",
       " 'gardenstown',\n",
       " 'pleasanton',\n",
       " 'general roca',\n",
       " 'alugan',\n",
       " 'kununurra',\n",
       " 'tautira',\n",
       " 'ozernovskiy',\n",
       " 'kachkanar',\n",
       " 'grosuplje',\n",
       " 'cam ranh',\n",
       " 'luanda',\n",
       " 'bakchar',\n",
       " 'xingyi',\n",
       " 'hornepayne',\n",
       " 'akhtanizovskaya',\n",
       " 'roebourne',\n",
       " 'san patricio',\n",
       " 'san pedro masahuat',\n",
       " 'sawakin',\n",
       " 'porto murtinho',\n",
       " 'parbatipur',\n",
       " 'puerto colombia',\n",
       " 'acajutla',\n",
       " 'bamberg',\n",
       " 'sume',\n",
       " 'ngorongoro',\n",
       " 'okato',\n",
       " 'calabozo',\n",
       " 'waddan',\n",
       " 'villa constitucion',\n",
       " 'baruun-urt',\n",
       " 'tabas',\n",
       " 'vallenar',\n",
       " 'shchelyayur',\n",
       " 'talcahuano',\n",
       " 'arrifes',\n",
       " 'guangyuan',\n",
       " 'ndungu',\n",
       " 'ust-ilimsk',\n",
       " 'ipoti',\n",
       " 'destin',\n",
       " 'petersburg',\n",
       " 'mions',\n",
       " 'kandi',\n",
       " 'vryburg',\n",
       " 'kirakira',\n",
       " 'wuwei',\n",
       " 'paso de carrasco',\n",
       " 'bolobo',\n",
       " 'nishihara',\n",
       " 'lavrentiya',\n",
       " 'college',\n",
       " 'fort dodge',\n",
       " 'wesselsbron',\n",
       " 'zepce',\n",
       " 'havre-saint-pierre',\n",
       " 'smirnykh',\n",
       " 'urumqi',\n",
       " 'san vicente',\n",
       " 'neftegorsk',\n",
       " 'constitucion',\n",
       " 'kamina',\n",
       " 'rotenburg',\n",
       " 'mildura',\n",
       " 'eirunepe',\n",
       " 'lepaera',\n",
       " 'antsohihy',\n",
       " 'yongan',\n",
       " 'dudinka',\n",
       " 'waw',\n",
       " 'shimoda',\n",
       " 'hit',\n",
       " 'puerto leguizamo',\n",
       " 'merke',\n",
       " 'bonfim',\n",
       " 'atambua',\n",
       " 'meridian',\n",
       " 'saint-augustin',\n",
       " 'alotau',\n",
       " 'coahuayana',\n",
       " 'bababe',\n",
       " 'shubarkuduk',\n",
       " 'pavlivka',\n",
       " 'paucartambo',\n",
       " 'san luis',\n",
       " 'dingle',\n",
       " 'mantua',\n",
       " 'komsomolskiy',\n",
       " 'pangody',\n",
       " 'antofagasta',\n",
       " 'khormuj',\n",
       " 'wanaka',\n",
       " 'qasigiannguit',\n",
       " 'andrushivka',\n",
       " 'port macquarie',\n",
       " 'gisborne',\n",
       " 'krasnoarmeysk',\n",
       " 'fuerte olimpo',\n",
       " 'verkhoyansk',\n",
       " 'kita',\n",
       " 'tsumeb',\n",
       " 'bratsk',\n",
       " 'warrensburg',\n",
       " 'kizhinga',\n",
       " 'pitkyaranta',\n",
       " 'terrace',\n",
       " 'bom jesus',\n",
       " 'evansville',\n",
       " 'nalchiti',\n",
       " 'natal',\n",
       " 'nosy varika',\n",
       " 'xichang',\n",
       " 'ambodifototra',\n",
       " 'isangel',\n",
       " 'kaura namoda',\n",
       " 'sterling',\n",
       " 'parede',\n",
       " 'auburn',\n",
       " 'conde',\n",
       " 'hailar',\n",
       " 'manggar',\n",
       " 'sayabec',\n",
       " 'pangkalanbuun',\n",
       " 'egvekinot']"
      ]
     },
     "execution_count": 3,
     "metadata": {},
     "output_type": "execute_result"
    }
   ],
   "source": [
    "cities"
   ]
  },
  {
   "cell_type": "code",
   "execution_count": 4,
   "metadata": {},
   "outputs": [
    {
     "data": {
      "text/plain": [
       "list"
      ]
     },
     "execution_count": 4,
     "metadata": {},
     "output_type": "execute_result"
    }
   ],
   "source": [
    "type(cities)"
   ]
  },
  {
   "cell_type": "code",
   "execution_count": 5,
   "metadata": {},
   "outputs": [
    {
     "data": {
      "text/plain": [
       "'taseyevo'"
      ]
     },
     "execution_count": 5,
     "metadata": {},
     "output_type": "execute_result"
    }
   ],
   "source": [
    "cities[0]"
   ]
  },
  {
   "cell_type": "markdown",
   "metadata": {},
   "source": [
    "### Perform API Calls\n",
    "* Perform a weather check on each city using a series of successive API calls.\n",
    "* Include a print log of each city as it'sbeing processed (with the city number and city name).\n"
   ]
  },
  {
   "cell_type": "code",
   "execution_count": 7,
   "metadata": {},
   "outputs": [],
   "source": [
    "url = \"http://api.openweathermap.org/data/2.5/weather?units=Imperial&APPID=\" + weather_api_key"
   ]
  },
  {
   "cell_type": "code",
   "execution_count": 8,
   "metadata": {},
   "outputs": [],
   "source": [
    "city_url= url + \"&q=\" + cities[0]"
   ]
  },
  {
   "cell_type": "code",
   "execution_count": 10,
   "metadata": {},
   "outputs": [],
   "source": [
    "city_weather = requests.get(city_url).json()"
   ]
  },
  {
   "cell_type": "code",
   "execution_count": 11,
   "metadata": {},
   "outputs": [
    {
     "data": {
      "text/plain": [
       "{'coord': {'lon': 94.9, 'lat': 57.22},\n",
       " 'weather': [{'id': 804,\n",
       "   'main': 'Clouds',\n",
       "   'description': 'overcast clouds',\n",
       "   'icon': '04n'}],\n",
       " 'base': 'stations',\n",
       " 'main': {'temp': 20.91,\n",
       "  'feels_like': 9.59,\n",
       "  'temp_min': 20.91,\n",
       "  'temp_max': 20.91,\n",
       "  'pressure': 1016,\n",
       "  'humidity': 96,\n",
       "  'sea_level': 1016,\n",
       "  'grnd_level': 997},\n",
       " 'visibility': 1279,\n",
       " 'wind': {'speed': 11.21, 'deg': 257},\n",
       " 'clouds': {'all': 100},\n",
       " 'dt': 1608388818,\n",
       " 'sys': {'country': 'RU', 'sunrise': 1608344263, 'sunset': 1608368243},\n",
       " 'timezone': 25200,\n",
       " 'id': 1490058,\n",
       " 'name': 'Taseyevo',\n",
       " 'cod': 200}"
      ]
     },
     "execution_count": 11,
     "metadata": {},
     "output_type": "execute_result"
    }
   ],
   "source": [
    "city_weather"
   ]
  },
  {
   "cell_type": "code",
   "execution_count": 12,
   "metadata": {},
   "outputs": [
    {
     "data": {
      "text/plain": [
       "dict"
      ]
     },
     "execution_count": 12,
     "metadata": {},
     "output_type": "execute_result"
    }
   ],
   "source": [
    "type(city_weather)"
   ]
  },
  {
   "cell_type": "code",
   "execution_count": 18,
   "metadata": {},
   "outputs": [
    {
     "name": "stdout",
     "output_type": "stream",
     "text": [
      "{'temp': 20.91, 'feels_like': 9.59, 'temp_min': 20.91, 'temp_max': 20.91, 'pressure': 1016, 'humidity': 96, 'sea_level': 1016, 'grnd_level': 997}\n"
     ]
    }
   ],
   "source": [
    "print(city_weather['main'])"
   ]
  },
  {
   "cell_type": "code",
   "execution_count": 19,
   "metadata": {
    "scrolled": true
   },
   "outputs": [
    {
     "name": "stdout",
     "output_type": "stream",
     "text": [
      "96\n"
     ]
    }
   ],
   "source": [
    "print(city_weather['main']['humidity'])"
   ]
  },
  {
   "cell_type": "code",
   "execution_count": 22,
   "metadata": {},
   "outputs": [
    {
     "name": "stdout",
     "output_type": "stream",
     "text": [
      "overcast clouds\n"
     ]
    }
   ],
   "source": [
    "print(city_weather['weather'][0]['description'])"
   ]
  },
  {
   "cell_type": "markdown",
   "metadata": {},
   "source": [
    "### Convert Raw Data to DataFrame\n",
    "* Export the city data into a .csv.\n",
    "* Display the DataFrame"
   ]
  },
  {
   "cell_type": "code",
   "execution_count": null,
   "metadata": {},
   "outputs": [],
   "source": []
  },
  {
   "cell_type": "code",
   "execution_count": 26,
   "metadata": {},
   "outputs": [
    {
     "name": "stdout",
     "output_type": "stream",
     "text": [
      "------------------------\n",
      "Beginning Data Retrieval\n",
      "------------------------\n",
      "http://api.openweathermap.org/data/2.5/weather?units=Imperial&APPID=6b22835a6d5245dfb197069f5744b260\n",
      "http://api.openweathermap.org/data/2.5/weather?units=Imperial&APPID=6b22835a6d5245dfb197069f5744b260\n",
      "City not found!\n",
      "http://api.openweathermap.org/data/2.5/weather?units=Imperial&APPID=6b22835a6d5245dfb197069f5744b260\n",
      "http://api.openweathermap.org/data/2.5/weather?units=Imperial&APPID=6b22835a6d5245dfb197069f5744b260\n",
      "http://api.openweathermap.org/data/2.5/weather?units=Imperial&APPID=6b22835a6d5245dfb197069f5744b260\n",
      "http://api.openweathermap.org/data/2.5/weather?units=Imperial&APPID=6b22835a6d5245dfb197069f5744b260\n",
      "http://api.openweathermap.org/data/2.5/weather?units=Imperial&APPID=6b22835a6d5245dfb197069f5744b260\n",
      "http://api.openweathermap.org/data/2.5/weather?units=Imperial&APPID=6b22835a6d5245dfb197069f5744b260\n",
      "http://api.openweathermap.org/data/2.5/weather?units=Imperial&APPID=6b22835a6d5245dfb197069f5744b260\n",
      "http://api.openweathermap.org/data/2.5/weather?units=Imperial&APPID=6b22835a6d5245dfb197069f5744b260\n",
      "http://api.openweathermap.org/data/2.5/weather?units=Imperial&APPID=6b22835a6d5245dfb197069f5744b260\n",
      "City not found!\n",
      "http://api.openweathermap.org/data/2.5/weather?units=Imperial&APPID=6b22835a6d5245dfb197069f5744b260\n",
      "http://api.openweathermap.org/data/2.5/weather?units=Imperial&APPID=6b22835a6d5245dfb197069f5744b260\n",
      "http://api.openweathermap.org/data/2.5/weather?units=Imperial&APPID=6b22835a6d5245dfb197069f5744b260\n",
      "http://api.openweathermap.org/data/2.5/weather?units=Imperial&APPID=6b22835a6d5245dfb197069f5744b260\n",
      "http://api.openweathermap.org/data/2.5/weather?units=Imperial&APPID=6b22835a6d5245dfb197069f5744b260\n",
      "http://api.openweathermap.org/data/2.5/weather?units=Imperial&APPID=6b22835a6d5245dfb197069f5744b260\n",
      "http://api.openweathermap.org/data/2.5/weather?units=Imperial&APPID=6b22835a6d5245dfb197069f5744b260\n",
      "http://api.openweathermap.org/data/2.5/weather?units=Imperial&APPID=6b22835a6d5245dfb197069f5744b260\n",
      "http://api.openweathermap.org/data/2.5/weather?units=Imperial&APPID=6b22835a6d5245dfb197069f5744b260\n",
      "http://api.openweathermap.org/data/2.5/weather?units=Imperial&APPID=6b22835a6d5245dfb197069f5744b260\n",
      "http://api.openweathermap.org/data/2.5/weather?units=Imperial&APPID=6b22835a6d5245dfb197069f5744b260\n",
      "http://api.openweathermap.org/data/2.5/weather?units=Imperial&APPID=6b22835a6d5245dfb197069f5744b260\n",
      "http://api.openweathermap.org/data/2.5/weather?units=Imperial&APPID=6b22835a6d5245dfb197069f5744b260\n",
      "http://api.openweathermap.org/data/2.5/weather?units=Imperial&APPID=6b22835a6d5245dfb197069f5744b260\n",
      "http://api.openweathermap.org/data/2.5/weather?units=Imperial&APPID=6b22835a6d5245dfb197069f5744b260\n",
      "http://api.openweathermap.org/data/2.5/weather?units=Imperial&APPID=6b22835a6d5245dfb197069f5744b260\n",
      "http://api.openweathermap.org/data/2.5/weather?units=Imperial&APPID=6b22835a6d5245dfb197069f5744b260\n",
      "http://api.openweathermap.org/data/2.5/weather?units=Imperial&APPID=6b22835a6d5245dfb197069f5744b260\n",
      "http://api.openweathermap.org/data/2.5/weather?units=Imperial&APPID=6b22835a6d5245dfb197069f5744b260\n",
      "http://api.openweathermap.org/data/2.5/weather?units=Imperial&APPID=6b22835a6d5245dfb197069f5744b260\n",
      "http://api.openweathermap.org/data/2.5/weather?units=Imperial&APPID=6b22835a6d5245dfb197069f5744b260\n",
      "http://api.openweathermap.org/data/2.5/weather?units=Imperial&APPID=6b22835a6d5245dfb197069f5744b260\n",
      "http://api.openweathermap.org/data/2.5/weather?units=Imperial&APPID=6b22835a6d5245dfb197069f5744b260\n",
      "http://api.openweathermap.org/data/2.5/weather?units=Imperial&APPID=6b22835a6d5245dfb197069f5744b260\n",
      "http://api.openweathermap.org/data/2.5/weather?units=Imperial&APPID=6b22835a6d5245dfb197069f5744b260\n",
      "City not found!\n",
      "http://api.openweathermap.org/data/2.5/weather?units=Imperial&APPID=6b22835a6d5245dfb197069f5744b260\n",
      "http://api.openweathermap.org/data/2.5/weather?units=Imperial&APPID=6b22835a6d5245dfb197069f5744b260\n",
      "http://api.openweathermap.org/data/2.5/weather?units=Imperial&APPID=6b22835a6d5245dfb197069f5744b260\n",
      "http://api.openweathermap.org/data/2.5/weather?units=Imperial&APPID=6b22835a6d5245dfb197069f5744b260\n",
      "http://api.openweathermap.org/data/2.5/weather?units=Imperial&APPID=6b22835a6d5245dfb197069f5744b260\n",
      "http://api.openweathermap.org/data/2.5/weather?units=Imperial&APPID=6b22835a6d5245dfb197069f5744b260\n",
      "City not found!\n",
      "http://api.openweathermap.org/data/2.5/weather?units=Imperial&APPID=6b22835a6d5245dfb197069f5744b260\n",
      "http://api.openweathermap.org/data/2.5/weather?units=Imperial&APPID=6b22835a6d5245dfb197069f5744b260\n",
      "http://api.openweathermap.org/data/2.5/weather?units=Imperial&APPID=6b22835a6d5245dfb197069f5744b260\n",
      "http://api.openweathermap.org/data/2.5/weather?units=Imperial&APPID=6b22835a6d5245dfb197069f5744b260\n",
      "http://api.openweathermap.org/data/2.5/weather?units=Imperial&APPID=6b22835a6d5245dfb197069f5744b260\n",
      "City not found!\n",
      "http://api.openweathermap.org/data/2.5/weather?units=Imperial&APPID=6b22835a6d5245dfb197069f5744b260\n",
      "City not found!\n",
      "http://api.openweathermap.org/data/2.5/weather?units=Imperial&APPID=6b22835a6d5245dfb197069f5744b260\n",
      "http://api.openweathermap.org/data/2.5/weather?units=Imperial&APPID=6b22835a6d5245dfb197069f5744b260\n",
      "http://api.openweathermap.org/data/2.5/weather?units=Imperial&APPID=6b22835a6d5245dfb197069f5744b260\n",
      "http://api.openweathermap.org/data/2.5/weather?units=Imperial&APPID=6b22835a6d5245dfb197069f5744b260\n",
      "http://api.openweathermap.org/data/2.5/weather?units=Imperial&APPID=6b22835a6d5245dfb197069f5744b260\n",
      "http://api.openweathermap.org/data/2.5/weather?units=Imperial&APPID=6b22835a6d5245dfb197069f5744b260\n",
      "http://api.openweathermap.org/data/2.5/weather?units=Imperial&APPID=6b22835a6d5245dfb197069f5744b260\n",
      "City not found!\n",
      "http://api.openweathermap.org/data/2.5/weather?units=Imperial&APPID=6b22835a6d5245dfb197069f5744b260\n",
      "http://api.openweathermap.org/data/2.5/weather?units=Imperial&APPID=6b22835a6d5245dfb197069f5744b260\n",
      "http://api.openweathermap.org/data/2.5/weather?units=Imperial&APPID=6b22835a6d5245dfb197069f5744b260\n",
      "http://api.openweathermap.org/data/2.5/weather?units=Imperial&APPID=6b22835a6d5245dfb197069f5744b260\n",
      "http://api.openweathermap.org/data/2.5/weather?units=Imperial&APPID=6b22835a6d5245dfb197069f5744b260\n",
      "http://api.openweathermap.org/data/2.5/weather?units=Imperial&APPID=6b22835a6d5245dfb197069f5744b260\n",
      "City not found!\n",
      "http://api.openweathermap.org/data/2.5/weather?units=Imperial&APPID=6b22835a6d5245dfb197069f5744b260\n",
      "http://api.openweathermap.org/data/2.5/weather?units=Imperial&APPID=6b22835a6d5245dfb197069f5744b260\n",
      "http://api.openweathermap.org/data/2.5/weather?units=Imperial&APPID=6b22835a6d5245dfb197069f5744b260\n",
      "http://api.openweathermap.org/data/2.5/weather?units=Imperial&APPID=6b22835a6d5245dfb197069f5744b260\n",
      "http://api.openweathermap.org/data/2.5/weather?units=Imperial&APPID=6b22835a6d5245dfb197069f5744b260\n",
      "http://api.openweathermap.org/data/2.5/weather?units=Imperial&APPID=6b22835a6d5245dfb197069f5744b260\n",
      "http://api.openweathermap.org/data/2.5/weather?units=Imperial&APPID=6b22835a6d5245dfb197069f5744b260\n",
      "http://api.openweathermap.org/data/2.5/weather?units=Imperial&APPID=6b22835a6d5245dfb197069f5744b260\n",
      "http://api.openweathermap.org/data/2.5/weather?units=Imperial&APPID=6b22835a6d5245dfb197069f5744b260\n",
      "http://api.openweathermap.org/data/2.5/weather?units=Imperial&APPID=6b22835a6d5245dfb197069f5744b260\n",
      "http://api.openweathermap.org/data/2.5/weather?units=Imperial&APPID=6b22835a6d5245dfb197069f5744b260\n",
      "City not found!\n",
      "http://api.openweathermap.org/data/2.5/weather?units=Imperial&APPID=6b22835a6d5245dfb197069f5744b260\n",
      "http://api.openweathermap.org/data/2.5/weather?units=Imperial&APPID=6b22835a6d5245dfb197069f5744b260\n",
      "http://api.openweathermap.org/data/2.5/weather?units=Imperial&APPID=6b22835a6d5245dfb197069f5744b260\n",
      "http://api.openweathermap.org/data/2.5/weather?units=Imperial&APPID=6b22835a6d5245dfb197069f5744b260\n",
      "City not found!\n",
      "http://api.openweathermap.org/data/2.5/weather?units=Imperial&APPID=6b22835a6d5245dfb197069f5744b260\n",
      "http://api.openweathermap.org/data/2.5/weather?units=Imperial&APPID=6b22835a6d5245dfb197069f5744b260\n",
      "City not found!\n",
      "http://api.openweathermap.org/data/2.5/weather?units=Imperial&APPID=6b22835a6d5245dfb197069f5744b260\n",
      "http://api.openweathermap.org/data/2.5/weather?units=Imperial&APPID=6b22835a6d5245dfb197069f5744b260\n",
      "http://api.openweathermap.org/data/2.5/weather?units=Imperial&APPID=6b22835a6d5245dfb197069f5744b260\n"
     ]
    },
    {
     "name": "stdout",
     "output_type": "stream",
     "text": [
      "http://api.openweathermap.org/data/2.5/weather?units=Imperial&APPID=6b22835a6d5245dfb197069f5744b260\n",
      "http://api.openweathermap.org/data/2.5/weather?units=Imperial&APPID=6b22835a6d5245dfb197069f5744b260\n",
      "http://api.openweathermap.org/data/2.5/weather?units=Imperial&APPID=6b22835a6d5245dfb197069f5744b260\n",
      "http://api.openweathermap.org/data/2.5/weather?units=Imperial&APPID=6b22835a6d5245dfb197069f5744b260\n",
      "http://api.openweathermap.org/data/2.5/weather?units=Imperial&APPID=6b22835a6d5245dfb197069f5744b260\n",
      "http://api.openweathermap.org/data/2.5/weather?units=Imperial&APPID=6b22835a6d5245dfb197069f5744b260\n",
      "http://api.openweathermap.org/data/2.5/weather?units=Imperial&APPID=6b22835a6d5245dfb197069f5744b260\n",
      "http://api.openweathermap.org/data/2.5/weather?units=Imperial&APPID=6b22835a6d5245dfb197069f5744b260\n",
      "http://api.openweathermap.org/data/2.5/weather?units=Imperial&APPID=6b22835a6d5245dfb197069f5744b260\n",
      "http://api.openweathermap.org/data/2.5/weather?units=Imperial&APPID=6b22835a6d5245dfb197069f5744b260\n",
      "http://api.openweathermap.org/data/2.5/weather?units=Imperial&APPID=6b22835a6d5245dfb197069f5744b260\n",
      "http://api.openweathermap.org/data/2.5/weather?units=Imperial&APPID=6b22835a6d5245dfb197069f5744b260\n",
      "http://api.openweathermap.org/data/2.5/weather?units=Imperial&APPID=6b22835a6d5245dfb197069f5744b260\n",
      "http://api.openweathermap.org/data/2.5/weather?units=Imperial&APPID=6b22835a6d5245dfb197069f5744b260\n",
      "http://api.openweathermap.org/data/2.5/weather?units=Imperial&APPID=6b22835a6d5245dfb197069f5744b260\n",
      "http://api.openweathermap.org/data/2.5/weather?units=Imperial&APPID=6b22835a6d5245dfb197069f5744b260\n",
      "http://api.openweathermap.org/data/2.5/weather?units=Imperial&APPID=6b22835a6d5245dfb197069f5744b260\n",
      "http://api.openweathermap.org/data/2.5/weather?units=Imperial&APPID=6b22835a6d5245dfb197069f5744b260\n",
      "http://api.openweathermap.org/data/2.5/weather?units=Imperial&APPID=6b22835a6d5245dfb197069f5744b260\n",
      "http://api.openweathermap.org/data/2.5/weather?units=Imperial&APPID=6b22835a6d5245dfb197069f5744b260\n",
      "http://api.openweathermap.org/data/2.5/weather?units=Imperial&APPID=6b22835a6d5245dfb197069f5744b260\n",
      "http://api.openweathermap.org/data/2.5/weather?units=Imperial&APPID=6b22835a6d5245dfb197069f5744b260\n",
      "http://api.openweathermap.org/data/2.5/weather?units=Imperial&APPID=6b22835a6d5245dfb197069f5744b260\n",
      "http://api.openweathermap.org/data/2.5/weather?units=Imperial&APPID=6b22835a6d5245dfb197069f5744b260\n",
      "http://api.openweathermap.org/data/2.5/weather?units=Imperial&APPID=6b22835a6d5245dfb197069f5744b260\n",
      "http://api.openweathermap.org/data/2.5/weather?units=Imperial&APPID=6b22835a6d5245dfb197069f5744b260\n",
      "http://api.openweathermap.org/data/2.5/weather?units=Imperial&APPID=6b22835a6d5245dfb197069f5744b260\n",
      "City not found!\n",
      "http://api.openweathermap.org/data/2.5/weather?units=Imperial&APPID=6b22835a6d5245dfb197069f5744b260\n",
      "http://api.openweathermap.org/data/2.5/weather?units=Imperial&APPID=6b22835a6d5245dfb197069f5744b260\n",
      "http://api.openweathermap.org/data/2.5/weather?units=Imperial&APPID=6b22835a6d5245dfb197069f5744b260\n",
      "http://api.openweathermap.org/data/2.5/weather?units=Imperial&APPID=6b22835a6d5245dfb197069f5744b260\n",
      "http://api.openweathermap.org/data/2.5/weather?units=Imperial&APPID=6b22835a6d5245dfb197069f5744b260\n",
      "http://api.openweathermap.org/data/2.5/weather?units=Imperial&APPID=6b22835a6d5245dfb197069f5744b260\n",
      "http://api.openweathermap.org/data/2.5/weather?units=Imperial&APPID=6b22835a6d5245dfb197069f5744b260\n",
      "http://api.openweathermap.org/data/2.5/weather?units=Imperial&APPID=6b22835a6d5245dfb197069f5744b260\n",
      "http://api.openweathermap.org/data/2.5/weather?units=Imperial&APPID=6b22835a6d5245dfb197069f5744b260\n",
      "http://api.openweathermap.org/data/2.5/weather?units=Imperial&APPID=6b22835a6d5245dfb197069f5744b260\n",
      "http://api.openweathermap.org/data/2.5/weather?units=Imperial&APPID=6b22835a6d5245dfb197069f5744b260\n",
      "http://api.openweathermap.org/data/2.5/weather?units=Imperial&APPID=6b22835a6d5245dfb197069f5744b260\n",
      "http://api.openweathermap.org/data/2.5/weather?units=Imperial&APPID=6b22835a6d5245dfb197069f5744b260\n",
      "http://api.openweathermap.org/data/2.5/weather?units=Imperial&APPID=6b22835a6d5245dfb197069f5744b260\n",
      "http://api.openweathermap.org/data/2.5/weather?units=Imperial&APPID=6b22835a6d5245dfb197069f5744b260\n",
      "http://api.openweathermap.org/data/2.5/weather?units=Imperial&APPID=6b22835a6d5245dfb197069f5744b260\n",
      "http://api.openweathermap.org/data/2.5/weather?units=Imperial&APPID=6b22835a6d5245dfb197069f5744b260\n",
      "http://api.openweathermap.org/data/2.5/weather?units=Imperial&APPID=6b22835a6d5245dfb197069f5744b260\n",
      "http://api.openweathermap.org/data/2.5/weather?units=Imperial&APPID=6b22835a6d5245dfb197069f5744b260\n",
      "http://api.openweathermap.org/data/2.5/weather?units=Imperial&APPID=6b22835a6d5245dfb197069f5744b260\n",
      "http://api.openweathermap.org/data/2.5/weather?units=Imperial&APPID=6b22835a6d5245dfb197069f5744b260\n",
      "http://api.openweathermap.org/data/2.5/weather?units=Imperial&APPID=6b22835a6d5245dfb197069f5744b260\n",
      "http://api.openweathermap.org/data/2.5/weather?units=Imperial&APPID=6b22835a6d5245dfb197069f5744b260\n",
      "http://api.openweathermap.org/data/2.5/weather?units=Imperial&APPID=6b22835a6d5245dfb197069f5744b260\n",
      "http://api.openweathermap.org/data/2.5/weather?units=Imperial&APPID=6b22835a6d5245dfb197069f5744b260\n",
      "http://api.openweathermap.org/data/2.5/weather?units=Imperial&APPID=6b22835a6d5245dfb197069f5744b260\n",
      "http://api.openweathermap.org/data/2.5/weather?units=Imperial&APPID=6b22835a6d5245dfb197069f5744b260\n",
      "http://api.openweathermap.org/data/2.5/weather?units=Imperial&APPID=6b22835a6d5245dfb197069f5744b260\n",
      "http://api.openweathermap.org/data/2.5/weather?units=Imperial&APPID=6b22835a6d5245dfb197069f5744b260\n",
      "http://api.openweathermap.org/data/2.5/weather?units=Imperial&APPID=6b22835a6d5245dfb197069f5744b260\n",
      "http://api.openweathermap.org/data/2.5/weather?units=Imperial&APPID=6b22835a6d5245dfb197069f5744b260\n",
      "http://api.openweathermap.org/data/2.5/weather?units=Imperial&APPID=6b22835a6d5245dfb197069f5744b260\n",
      "http://api.openweathermap.org/data/2.5/weather?units=Imperial&APPID=6b22835a6d5245dfb197069f5744b260\n",
      "http://api.openweathermap.org/data/2.5/weather?units=Imperial&APPID=6b22835a6d5245dfb197069f5744b260\n",
      "http://api.openweathermap.org/data/2.5/weather?units=Imperial&APPID=6b22835a6d5245dfb197069f5744b260\n",
      "http://api.openweathermap.org/data/2.5/weather?units=Imperial&APPID=6b22835a6d5245dfb197069f5744b260\n",
      "http://api.openweathermap.org/data/2.5/weather?units=Imperial&APPID=6b22835a6d5245dfb197069f5744b260\n",
      "http://api.openweathermap.org/data/2.5/weather?units=Imperial&APPID=6b22835a6d5245dfb197069f5744b260\n",
      "http://api.openweathermap.org/data/2.5/weather?units=Imperial&APPID=6b22835a6d5245dfb197069f5744b260\n",
      "http://api.openweathermap.org/data/2.5/weather?units=Imperial&APPID=6b22835a6d5245dfb197069f5744b260\n",
      "http://api.openweathermap.org/data/2.5/weather?units=Imperial&APPID=6b22835a6d5245dfb197069f5744b260\n",
      "http://api.openweathermap.org/data/2.5/weather?units=Imperial&APPID=6b22835a6d5245dfb197069f5744b260\n",
      "http://api.openweathermap.org/data/2.5/weather?units=Imperial&APPID=6b22835a6d5245dfb197069f5744b260\n",
      "http://api.openweathermap.org/data/2.5/weather?units=Imperial&APPID=6b22835a6d5245dfb197069f5744b260\n",
      "http://api.openweathermap.org/data/2.5/weather?units=Imperial&APPID=6b22835a6d5245dfb197069f5744b260\n",
      "http://api.openweathermap.org/data/2.5/weather?units=Imperial&APPID=6b22835a6d5245dfb197069f5744b260\n",
      "http://api.openweathermap.org/data/2.5/weather?units=Imperial&APPID=6b22835a6d5245dfb197069f5744b260\n",
      "http://api.openweathermap.org/data/2.5/weather?units=Imperial&APPID=6b22835a6d5245dfb197069f5744b260\n",
      "http://api.openweathermap.org/data/2.5/weather?units=Imperial&APPID=6b22835a6d5245dfb197069f5744b260\n",
      "http://api.openweathermap.org/data/2.5/weather?units=Imperial&APPID=6b22835a6d5245dfb197069f5744b260\n",
      "http://api.openweathermap.org/data/2.5/weather?units=Imperial&APPID=6b22835a6d5245dfb197069f5744b260\n",
      "http://api.openweathermap.org/data/2.5/weather?units=Imperial&APPID=6b22835a6d5245dfb197069f5744b260\n",
      "http://api.openweathermap.org/data/2.5/weather?units=Imperial&APPID=6b22835a6d5245dfb197069f5744b260\n",
      "http://api.openweathermap.org/data/2.5/weather?units=Imperial&APPID=6b22835a6d5245dfb197069f5744b260\n",
      "http://api.openweathermap.org/data/2.5/weather?units=Imperial&APPID=6b22835a6d5245dfb197069f5744b260\n",
      "http://api.openweathermap.org/data/2.5/weather?units=Imperial&APPID=6b22835a6d5245dfb197069f5744b260\n"
     ]
    },
    {
     "name": "stdout",
     "output_type": "stream",
     "text": [
      "http://api.openweathermap.org/data/2.5/weather?units=Imperial&APPID=6b22835a6d5245dfb197069f5744b260\n",
      "City not found!\n",
      "http://api.openweathermap.org/data/2.5/weather?units=Imperial&APPID=6b22835a6d5245dfb197069f5744b260\n",
      "http://api.openweathermap.org/data/2.5/weather?units=Imperial&APPID=6b22835a6d5245dfb197069f5744b260\n",
      "http://api.openweathermap.org/data/2.5/weather?units=Imperial&APPID=6b22835a6d5245dfb197069f5744b260\n",
      "http://api.openweathermap.org/data/2.5/weather?units=Imperial&APPID=6b22835a6d5245dfb197069f5744b260\n",
      "http://api.openweathermap.org/data/2.5/weather?units=Imperial&APPID=6b22835a6d5245dfb197069f5744b260\n",
      "http://api.openweathermap.org/data/2.5/weather?units=Imperial&APPID=6b22835a6d5245dfb197069f5744b260\n",
      "City not found!\n",
      "http://api.openweathermap.org/data/2.5/weather?units=Imperial&APPID=6b22835a6d5245dfb197069f5744b260\n",
      "http://api.openweathermap.org/data/2.5/weather?units=Imperial&APPID=6b22835a6d5245dfb197069f5744b260\n",
      "http://api.openweathermap.org/data/2.5/weather?units=Imperial&APPID=6b22835a6d5245dfb197069f5744b260\n",
      "http://api.openweathermap.org/data/2.5/weather?units=Imperial&APPID=6b22835a6d5245dfb197069f5744b260\n",
      "http://api.openweathermap.org/data/2.5/weather?units=Imperial&APPID=6b22835a6d5245dfb197069f5744b260\n",
      "http://api.openweathermap.org/data/2.5/weather?units=Imperial&APPID=6b22835a6d5245dfb197069f5744b260\n",
      "http://api.openweathermap.org/data/2.5/weather?units=Imperial&APPID=6b22835a6d5245dfb197069f5744b260\n",
      "City not found!\n",
      "http://api.openweathermap.org/data/2.5/weather?units=Imperial&APPID=6b22835a6d5245dfb197069f5744b260\n",
      "http://api.openweathermap.org/data/2.5/weather?units=Imperial&APPID=6b22835a6d5245dfb197069f5744b260\n",
      "http://api.openweathermap.org/data/2.5/weather?units=Imperial&APPID=6b22835a6d5245dfb197069f5744b260\n",
      "http://api.openweathermap.org/data/2.5/weather?units=Imperial&APPID=6b22835a6d5245dfb197069f5744b260\n",
      "http://api.openweathermap.org/data/2.5/weather?units=Imperial&APPID=6b22835a6d5245dfb197069f5744b260\n",
      "http://api.openweathermap.org/data/2.5/weather?units=Imperial&APPID=6b22835a6d5245dfb197069f5744b260\n",
      "http://api.openweathermap.org/data/2.5/weather?units=Imperial&APPID=6b22835a6d5245dfb197069f5744b260\n",
      "http://api.openweathermap.org/data/2.5/weather?units=Imperial&APPID=6b22835a6d5245dfb197069f5744b260\n",
      "http://api.openweathermap.org/data/2.5/weather?units=Imperial&APPID=6b22835a6d5245dfb197069f5744b260\n",
      "http://api.openweathermap.org/data/2.5/weather?units=Imperial&APPID=6b22835a6d5245dfb197069f5744b260\n",
      "http://api.openweathermap.org/data/2.5/weather?units=Imperial&APPID=6b22835a6d5245dfb197069f5744b260\n",
      "http://api.openweathermap.org/data/2.5/weather?units=Imperial&APPID=6b22835a6d5245dfb197069f5744b260\n",
      "http://api.openweathermap.org/data/2.5/weather?units=Imperial&APPID=6b22835a6d5245dfb197069f5744b260\n",
      "http://api.openweathermap.org/data/2.5/weather?units=Imperial&APPID=6b22835a6d5245dfb197069f5744b260\n",
      "http://api.openweathermap.org/data/2.5/weather?units=Imperial&APPID=6b22835a6d5245dfb197069f5744b260\n",
      "http://api.openweathermap.org/data/2.5/weather?units=Imperial&APPID=6b22835a6d5245dfb197069f5744b260\n",
      "City not found!\n",
      "http://api.openweathermap.org/data/2.5/weather?units=Imperial&APPID=6b22835a6d5245dfb197069f5744b260\n",
      "http://api.openweathermap.org/data/2.5/weather?units=Imperial&APPID=6b22835a6d5245dfb197069f5744b260\n",
      "http://api.openweathermap.org/data/2.5/weather?units=Imperial&APPID=6b22835a6d5245dfb197069f5744b260\n",
      "http://api.openweathermap.org/data/2.5/weather?units=Imperial&APPID=6b22835a6d5245dfb197069f5744b260\n",
      "http://api.openweathermap.org/data/2.5/weather?units=Imperial&APPID=6b22835a6d5245dfb197069f5744b260\n",
      "City not found!\n",
      "http://api.openweathermap.org/data/2.5/weather?units=Imperial&APPID=6b22835a6d5245dfb197069f5744b260\n",
      "http://api.openweathermap.org/data/2.5/weather?units=Imperial&APPID=6b22835a6d5245dfb197069f5744b260\n",
      "http://api.openweathermap.org/data/2.5/weather?units=Imperial&APPID=6b22835a6d5245dfb197069f5744b260\n",
      "http://api.openweathermap.org/data/2.5/weather?units=Imperial&APPID=6b22835a6d5245dfb197069f5744b260\n",
      "http://api.openweathermap.org/data/2.5/weather?units=Imperial&APPID=6b22835a6d5245dfb197069f5744b260\n",
      "http://api.openweathermap.org/data/2.5/weather?units=Imperial&APPID=6b22835a6d5245dfb197069f5744b260\n",
      "http://api.openweathermap.org/data/2.5/weather?units=Imperial&APPID=6b22835a6d5245dfb197069f5744b260\n",
      "http://api.openweathermap.org/data/2.5/weather?units=Imperial&APPID=6b22835a6d5245dfb197069f5744b260\n",
      "http://api.openweathermap.org/data/2.5/weather?units=Imperial&APPID=6b22835a6d5245dfb197069f5744b260\n",
      "http://api.openweathermap.org/data/2.5/weather?units=Imperial&APPID=6b22835a6d5245dfb197069f5744b260\n",
      "http://api.openweathermap.org/data/2.5/weather?units=Imperial&APPID=6b22835a6d5245dfb197069f5744b260\n",
      "http://api.openweathermap.org/data/2.5/weather?units=Imperial&APPID=6b22835a6d5245dfb197069f5744b260\n",
      "City not found!\n",
      "http://api.openweathermap.org/data/2.5/weather?units=Imperial&APPID=6b22835a6d5245dfb197069f5744b260\n",
      "http://api.openweathermap.org/data/2.5/weather?units=Imperial&APPID=6b22835a6d5245dfb197069f5744b260\n",
      "http://api.openweathermap.org/data/2.5/weather?units=Imperial&APPID=6b22835a6d5245dfb197069f5744b260\n",
      "http://api.openweathermap.org/data/2.5/weather?units=Imperial&APPID=6b22835a6d5245dfb197069f5744b260\n",
      "http://api.openweathermap.org/data/2.5/weather?units=Imperial&APPID=6b22835a6d5245dfb197069f5744b260\n",
      "http://api.openweathermap.org/data/2.5/weather?units=Imperial&APPID=6b22835a6d5245dfb197069f5744b260\n",
      "http://api.openweathermap.org/data/2.5/weather?units=Imperial&APPID=6b22835a6d5245dfb197069f5744b260\n",
      "http://api.openweathermap.org/data/2.5/weather?units=Imperial&APPID=6b22835a6d5245dfb197069f5744b260\n",
      "http://api.openweathermap.org/data/2.5/weather?units=Imperial&APPID=6b22835a6d5245dfb197069f5744b260\n",
      "http://api.openweathermap.org/data/2.5/weather?units=Imperial&APPID=6b22835a6d5245dfb197069f5744b260\n",
      "City not found!\n",
      "http://api.openweathermap.org/data/2.5/weather?units=Imperial&APPID=6b22835a6d5245dfb197069f5744b260\n",
      "http://api.openweathermap.org/data/2.5/weather?units=Imperial&APPID=6b22835a6d5245dfb197069f5744b260\n",
      "http://api.openweathermap.org/data/2.5/weather?units=Imperial&APPID=6b22835a6d5245dfb197069f5744b260\n",
      "http://api.openweathermap.org/data/2.5/weather?units=Imperial&APPID=6b22835a6d5245dfb197069f5744b260\n",
      "http://api.openweathermap.org/data/2.5/weather?units=Imperial&APPID=6b22835a6d5245dfb197069f5744b260\n",
      "http://api.openweathermap.org/data/2.5/weather?units=Imperial&APPID=6b22835a6d5245dfb197069f5744b260\n",
      "http://api.openweathermap.org/data/2.5/weather?units=Imperial&APPID=6b22835a6d5245dfb197069f5744b260\n",
      "http://api.openweathermap.org/data/2.5/weather?units=Imperial&APPID=6b22835a6d5245dfb197069f5744b260\n",
      "http://api.openweathermap.org/data/2.5/weather?units=Imperial&APPID=6b22835a6d5245dfb197069f5744b260\n",
      "http://api.openweathermap.org/data/2.5/weather?units=Imperial&APPID=6b22835a6d5245dfb197069f5744b260\n",
      "http://api.openweathermap.org/data/2.5/weather?units=Imperial&APPID=6b22835a6d5245dfb197069f5744b260\n",
      "http://api.openweathermap.org/data/2.5/weather?units=Imperial&APPID=6b22835a6d5245dfb197069f5744b260\n",
      "http://api.openweathermap.org/data/2.5/weather?units=Imperial&APPID=6b22835a6d5245dfb197069f5744b260\n",
      "http://api.openweathermap.org/data/2.5/weather?units=Imperial&APPID=6b22835a6d5245dfb197069f5744b260\n",
      "http://api.openweathermap.org/data/2.5/weather?units=Imperial&APPID=6b22835a6d5245dfb197069f5744b260\n",
      "http://api.openweathermap.org/data/2.5/weather?units=Imperial&APPID=6b22835a6d5245dfb197069f5744b260\n",
      "City not found!\n",
      "http://api.openweathermap.org/data/2.5/weather?units=Imperial&APPID=6b22835a6d5245dfb197069f5744b260\n",
      "http://api.openweathermap.org/data/2.5/weather?units=Imperial&APPID=6b22835a6d5245dfb197069f5744b260\n",
      "http://api.openweathermap.org/data/2.5/weather?units=Imperial&APPID=6b22835a6d5245dfb197069f5744b260\n",
      "http://api.openweathermap.org/data/2.5/weather?units=Imperial&APPID=6b22835a6d5245dfb197069f5744b260\n",
      "http://api.openweathermap.org/data/2.5/weather?units=Imperial&APPID=6b22835a6d5245dfb197069f5744b260\n",
      "City not found!\n",
      "http://api.openweathermap.org/data/2.5/weather?units=Imperial&APPID=6b22835a6d5245dfb197069f5744b260\n",
      "http://api.openweathermap.org/data/2.5/weather?units=Imperial&APPID=6b22835a6d5245dfb197069f5744b260\n",
      "http://api.openweathermap.org/data/2.5/weather?units=Imperial&APPID=6b22835a6d5245dfb197069f5744b260\n"
     ]
    },
    {
     "name": "stdout",
     "output_type": "stream",
     "text": [
      "http://api.openweathermap.org/data/2.5/weather?units=Imperial&APPID=6b22835a6d5245dfb197069f5744b260\n",
      "City not found!\n",
      "http://api.openweathermap.org/data/2.5/weather?units=Imperial&APPID=6b22835a6d5245dfb197069f5744b260\n",
      "http://api.openweathermap.org/data/2.5/weather?units=Imperial&APPID=6b22835a6d5245dfb197069f5744b260\n",
      "http://api.openweathermap.org/data/2.5/weather?units=Imperial&APPID=6b22835a6d5245dfb197069f5744b260\n",
      "http://api.openweathermap.org/data/2.5/weather?units=Imperial&APPID=6b22835a6d5245dfb197069f5744b260\n",
      "http://api.openweathermap.org/data/2.5/weather?units=Imperial&APPID=6b22835a6d5245dfb197069f5744b260\n",
      "http://api.openweathermap.org/data/2.5/weather?units=Imperial&APPID=6b22835a6d5245dfb197069f5744b260\n",
      "http://api.openweathermap.org/data/2.5/weather?units=Imperial&APPID=6b22835a6d5245dfb197069f5744b260\n",
      "http://api.openweathermap.org/data/2.5/weather?units=Imperial&APPID=6b22835a6d5245dfb197069f5744b260\n",
      "http://api.openweathermap.org/data/2.5/weather?units=Imperial&APPID=6b22835a6d5245dfb197069f5744b260\n",
      "http://api.openweathermap.org/data/2.5/weather?units=Imperial&APPID=6b22835a6d5245dfb197069f5744b260\n",
      "http://api.openweathermap.org/data/2.5/weather?units=Imperial&APPID=6b22835a6d5245dfb197069f5744b260\n",
      "http://api.openweathermap.org/data/2.5/weather?units=Imperial&APPID=6b22835a6d5245dfb197069f5744b260\n",
      "http://api.openweathermap.org/data/2.5/weather?units=Imperial&APPID=6b22835a6d5245dfb197069f5744b260\n",
      "http://api.openweathermap.org/data/2.5/weather?units=Imperial&APPID=6b22835a6d5245dfb197069f5744b260\n",
      "http://api.openweathermap.org/data/2.5/weather?units=Imperial&APPID=6b22835a6d5245dfb197069f5744b260\n",
      "http://api.openweathermap.org/data/2.5/weather?units=Imperial&APPID=6b22835a6d5245dfb197069f5744b260\n",
      "http://api.openweathermap.org/data/2.5/weather?units=Imperial&APPID=6b22835a6d5245dfb197069f5744b260\n",
      "http://api.openweathermap.org/data/2.5/weather?units=Imperial&APPID=6b22835a6d5245dfb197069f5744b260\n",
      "http://api.openweathermap.org/data/2.5/weather?units=Imperial&APPID=6b22835a6d5245dfb197069f5744b260\n",
      "http://api.openweathermap.org/data/2.5/weather?units=Imperial&APPID=6b22835a6d5245dfb197069f5744b260\n",
      "http://api.openweathermap.org/data/2.5/weather?units=Imperial&APPID=6b22835a6d5245dfb197069f5744b260\n",
      "http://api.openweathermap.org/data/2.5/weather?units=Imperial&APPID=6b22835a6d5245dfb197069f5744b260\n",
      "City not found!\n",
      "http://api.openweathermap.org/data/2.5/weather?units=Imperial&APPID=6b22835a6d5245dfb197069f5744b260\n",
      "http://api.openweathermap.org/data/2.5/weather?units=Imperial&APPID=6b22835a6d5245dfb197069f5744b260\n",
      "City not found!\n",
      "http://api.openweathermap.org/data/2.5/weather?units=Imperial&APPID=6b22835a6d5245dfb197069f5744b260\n",
      "http://api.openweathermap.org/data/2.5/weather?units=Imperial&APPID=6b22835a6d5245dfb197069f5744b260\n",
      "http://api.openweathermap.org/data/2.5/weather?units=Imperial&APPID=6b22835a6d5245dfb197069f5744b260\n",
      "http://api.openweathermap.org/data/2.5/weather?units=Imperial&APPID=6b22835a6d5245dfb197069f5744b260\n",
      "http://api.openweathermap.org/data/2.5/weather?units=Imperial&APPID=6b22835a6d5245dfb197069f5744b260\n",
      "http://api.openweathermap.org/data/2.5/weather?units=Imperial&APPID=6b22835a6d5245dfb197069f5744b260\n",
      "http://api.openweathermap.org/data/2.5/weather?units=Imperial&APPID=6b22835a6d5245dfb197069f5744b260\n",
      "http://api.openweathermap.org/data/2.5/weather?units=Imperial&APPID=6b22835a6d5245dfb197069f5744b260\n",
      "http://api.openweathermap.org/data/2.5/weather?units=Imperial&APPID=6b22835a6d5245dfb197069f5744b260\n",
      "http://api.openweathermap.org/data/2.5/weather?units=Imperial&APPID=6b22835a6d5245dfb197069f5744b260\n",
      "http://api.openweathermap.org/data/2.5/weather?units=Imperial&APPID=6b22835a6d5245dfb197069f5744b260\n",
      "http://api.openweathermap.org/data/2.5/weather?units=Imperial&APPID=6b22835a6d5245dfb197069f5744b260\n",
      "http://api.openweathermap.org/data/2.5/weather?units=Imperial&APPID=6b22835a6d5245dfb197069f5744b260\n",
      "http://api.openweathermap.org/data/2.5/weather?units=Imperial&APPID=6b22835a6d5245dfb197069f5744b260\n",
      "http://api.openweathermap.org/data/2.5/weather?units=Imperial&APPID=6b22835a6d5245dfb197069f5744b260\n",
      "http://api.openweathermap.org/data/2.5/weather?units=Imperial&APPID=6b22835a6d5245dfb197069f5744b260\n",
      "http://api.openweathermap.org/data/2.5/weather?units=Imperial&APPID=6b22835a6d5245dfb197069f5744b260\n",
      "http://api.openweathermap.org/data/2.5/weather?units=Imperial&APPID=6b22835a6d5245dfb197069f5744b260\n",
      "http://api.openweathermap.org/data/2.5/weather?units=Imperial&APPID=6b22835a6d5245dfb197069f5744b260\n",
      "City not found!\n",
      "http://api.openweathermap.org/data/2.5/weather?units=Imperial&APPID=6b22835a6d5245dfb197069f5744b260\n",
      "http://api.openweathermap.org/data/2.5/weather?units=Imperial&APPID=6b22835a6d5245dfb197069f5744b260\n",
      "http://api.openweathermap.org/data/2.5/weather?units=Imperial&APPID=6b22835a6d5245dfb197069f5744b260\n",
      "http://api.openweathermap.org/data/2.5/weather?units=Imperial&APPID=6b22835a6d5245dfb197069f5744b260\n",
      "http://api.openweathermap.org/data/2.5/weather?units=Imperial&APPID=6b22835a6d5245dfb197069f5744b260\n",
      "http://api.openweathermap.org/data/2.5/weather?units=Imperial&APPID=6b22835a6d5245dfb197069f5744b260\n",
      "http://api.openweathermap.org/data/2.5/weather?units=Imperial&APPID=6b22835a6d5245dfb197069f5744b260\n",
      "http://api.openweathermap.org/data/2.5/weather?units=Imperial&APPID=6b22835a6d5245dfb197069f5744b260\n",
      "http://api.openweathermap.org/data/2.5/weather?units=Imperial&APPID=6b22835a6d5245dfb197069f5744b260\n",
      "http://api.openweathermap.org/data/2.5/weather?units=Imperial&APPID=6b22835a6d5245dfb197069f5744b260\n",
      "http://api.openweathermap.org/data/2.5/weather?units=Imperial&APPID=6b22835a6d5245dfb197069f5744b260\n",
      "http://api.openweathermap.org/data/2.5/weather?units=Imperial&APPID=6b22835a6d5245dfb197069f5744b260\n",
      "http://api.openweathermap.org/data/2.5/weather?units=Imperial&APPID=6b22835a6d5245dfb197069f5744b260\n",
      "http://api.openweathermap.org/data/2.5/weather?units=Imperial&APPID=6b22835a6d5245dfb197069f5744b260\n",
      "http://api.openweathermap.org/data/2.5/weather?units=Imperial&APPID=6b22835a6d5245dfb197069f5744b260\n",
      "http://api.openweathermap.org/data/2.5/weather?units=Imperial&APPID=6b22835a6d5245dfb197069f5744b260\n",
      "http://api.openweathermap.org/data/2.5/weather?units=Imperial&APPID=6b22835a6d5245dfb197069f5744b260\n",
      "http://api.openweathermap.org/data/2.5/weather?units=Imperial&APPID=6b22835a6d5245dfb197069f5744b260\n",
      "http://api.openweathermap.org/data/2.5/weather?units=Imperial&APPID=6b22835a6d5245dfb197069f5744b260\n",
      "http://api.openweathermap.org/data/2.5/weather?units=Imperial&APPID=6b22835a6d5245dfb197069f5744b260\n",
      "http://api.openweathermap.org/data/2.5/weather?units=Imperial&APPID=6b22835a6d5245dfb197069f5744b260\n",
      "http://api.openweathermap.org/data/2.5/weather?units=Imperial&APPID=6b22835a6d5245dfb197069f5744b260\n",
      "http://api.openweathermap.org/data/2.5/weather?units=Imperial&APPID=6b22835a6d5245dfb197069f5744b260\n",
      "http://api.openweathermap.org/data/2.5/weather?units=Imperial&APPID=6b22835a6d5245dfb197069f5744b260\n",
      "City not found!\n",
      "http://api.openweathermap.org/data/2.5/weather?units=Imperial&APPID=6b22835a6d5245dfb197069f5744b260\n",
      "City not found!\n",
      "http://api.openweathermap.org/data/2.5/weather?units=Imperial&APPID=6b22835a6d5245dfb197069f5744b260\n",
      "http://api.openweathermap.org/data/2.5/weather?units=Imperial&APPID=6b22835a6d5245dfb197069f5744b260\n",
      "http://api.openweathermap.org/data/2.5/weather?units=Imperial&APPID=6b22835a6d5245dfb197069f5744b260\n",
      "http://api.openweathermap.org/data/2.5/weather?units=Imperial&APPID=6b22835a6d5245dfb197069f5744b260\n",
      "http://api.openweathermap.org/data/2.5/weather?units=Imperial&APPID=6b22835a6d5245dfb197069f5744b260\n",
      "http://api.openweathermap.org/data/2.5/weather?units=Imperial&APPID=6b22835a6d5245dfb197069f5744b260\n",
      "http://api.openweathermap.org/data/2.5/weather?units=Imperial&APPID=6b22835a6d5245dfb197069f5744b260\n",
      "http://api.openweathermap.org/data/2.5/weather?units=Imperial&APPID=6b22835a6d5245dfb197069f5744b260\n",
      "http://api.openweathermap.org/data/2.5/weather?units=Imperial&APPID=6b22835a6d5245dfb197069f5744b260\n",
      "City not found!\n",
      "http://api.openweathermap.org/data/2.5/weather?units=Imperial&APPID=6b22835a6d5245dfb197069f5744b260\n",
      "City not found!\n",
      "http://api.openweathermap.org/data/2.5/weather?units=Imperial&APPID=6b22835a6d5245dfb197069f5744b260\n",
      "http://api.openweathermap.org/data/2.5/weather?units=Imperial&APPID=6b22835a6d5245dfb197069f5744b260\n",
      "http://api.openweathermap.org/data/2.5/weather?units=Imperial&APPID=6b22835a6d5245dfb197069f5744b260\n"
     ]
    },
    {
     "name": "stdout",
     "output_type": "stream",
     "text": [
      "http://api.openweathermap.org/data/2.5/weather?units=Imperial&APPID=6b22835a6d5245dfb197069f5744b260\n",
      "http://api.openweathermap.org/data/2.5/weather?units=Imperial&APPID=6b22835a6d5245dfb197069f5744b260\n",
      "http://api.openweathermap.org/data/2.5/weather?units=Imperial&APPID=6b22835a6d5245dfb197069f5744b260\n",
      "http://api.openweathermap.org/data/2.5/weather?units=Imperial&APPID=6b22835a6d5245dfb197069f5744b260\n",
      "http://api.openweathermap.org/data/2.5/weather?units=Imperial&APPID=6b22835a6d5245dfb197069f5744b260\n",
      "http://api.openweathermap.org/data/2.5/weather?units=Imperial&APPID=6b22835a6d5245dfb197069f5744b260\n",
      "http://api.openweathermap.org/data/2.5/weather?units=Imperial&APPID=6b22835a6d5245dfb197069f5744b260\n",
      "http://api.openweathermap.org/data/2.5/weather?units=Imperial&APPID=6b22835a6d5245dfb197069f5744b260\n",
      "http://api.openweathermap.org/data/2.5/weather?units=Imperial&APPID=6b22835a6d5245dfb197069f5744b260\n",
      "http://api.openweathermap.org/data/2.5/weather?units=Imperial&APPID=6b22835a6d5245dfb197069f5744b260\n",
      "http://api.openweathermap.org/data/2.5/weather?units=Imperial&APPID=6b22835a6d5245dfb197069f5744b260\n",
      "http://api.openweathermap.org/data/2.5/weather?units=Imperial&APPID=6b22835a6d5245dfb197069f5744b260\n",
      "http://api.openweathermap.org/data/2.5/weather?units=Imperial&APPID=6b22835a6d5245dfb197069f5744b260\n",
      "City not found!\n",
      "http://api.openweathermap.org/data/2.5/weather?units=Imperial&APPID=6b22835a6d5245dfb197069f5744b260\n",
      "http://api.openweathermap.org/data/2.5/weather?units=Imperial&APPID=6b22835a6d5245dfb197069f5744b260\n",
      "http://api.openweathermap.org/data/2.5/weather?units=Imperial&APPID=6b22835a6d5245dfb197069f5744b260\n",
      "http://api.openweathermap.org/data/2.5/weather?units=Imperial&APPID=6b22835a6d5245dfb197069f5744b260\n",
      "http://api.openweathermap.org/data/2.5/weather?units=Imperial&APPID=6b22835a6d5245dfb197069f5744b260\n",
      "http://api.openweathermap.org/data/2.5/weather?units=Imperial&APPID=6b22835a6d5245dfb197069f5744b260\n",
      "City not found!\n",
      "http://api.openweathermap.org/data/2.5/weather?units=Imperial&APPID=6b22835a6d5245dfb197069f5744b260\n",
      "http://api.openweathermap.org/data/2.5/weather?units=Imperial&APPID=6b22835a6d5245dfb197069f5744b260\n",
      "http://api.openweathermap.org/data/2.5/weather?units=Imperial&APPID=6b22835a6d5245dfb197069f5744b260\n",
      "http://api.openweathermap.org/data/2.5/weather?units=Imperial&APPID=6b22835a6d5245dfb197069f5744b260\n",
      "http://api.openweathermap.org/data/2.5/weather?units=Imperial&APPID=6b22835a6d5245dfb197069f5744b260\n",
      "http://api.openweathermap.org/data/2.5/weather?units=Imperial&APPID=6b22835a6d5245dfb197069f5744b260\n",
      "http://api.openweathermap.org/data/2.5/weather?units=Imperial&APPID=6b22835a6d5245dfb197069f5744b260\n",
      "http://api.openweathermap.org/data/2.5/weather?units=Imperial&APPID=6b22835a6d5245dfb197069f5744b260\n",
      "http://api.openweathermap.org/data/2.5/weather?units=Imperial&APPID=6b22835a6d5245dfb197069f5744b260\n",
      "http://api.openweathermap.org/data/2.5/weather?units=Imperial&APPID=6b22835a6d5245dfb197069f5744b260\n",
      "http://api.openweathermap.org/data/2.5/weather?units=Imperial&APPID=6b22835a6d5245dfb197069f5744b260\n",
      "http://api.openweathermap.org/data/2.5/weather?units=Imperial&APPID=6b22835a6d5245dfb197069f5744b260\n",
      "http://api.openweathermap.org/data/2.5/weather?units=Imperial&APPID=6b22835a6d5245dfb197069f5744b260\n",
      "http://api.openweathermap.org/data/2.5/weather?units=Imperial&APPID=6b22835a6d5245dfb197069f5744b260\n",
      "http://api.openweathermap.org/data/2.5/weather?units=Imperial&APPID=6b22835a6d5245dfb197069f5744b260\n",
      "http://api.openweathermap.org/data/2.5/weather?units=Imperial&APPID=6b22835a6d5245dfb197069f5744b260\n",
      "http://api.openweathermap.org/data/2.5/weather?units=Imperial&APPID=6b22835a6d5245dfb197069f5744b260\n",
      "http://api.openweathermap.org/data/2.5/weather?units=Imperial&APPID=6b22835a6d5245dfb197069f5744b260\n",
      "http://api.openweathermap.org/data/2.5/weather?units=Imperial&APPID=6b22835a6d5245dfb197069f5744b260\n",
      "http://api.openweathermap.org/data/2.5/weather?units=Imperial&APPID=6b22835a6d5245dfb197069f5744b260\n",
      "http://api.openweathermap.org/data/2.5/weather?units=Imperial&APPID=6b22835a6d5245dfb197069f5744b260\n",
      "http://api.openweathermap.org/data/2.5/weather?units=Imperial&APPID=6b22835a6d5245dfb197069f5744b260\n",
      "http://api.openweathermap.org/data/2.5/weather?units=Imperial&APPID=6b22835a6d5245dfb197069f5744b260\n",
      "http://api.openweathermap.org/data/2.5/weather?units=Imperial&APPID=6b22835a6d5245dfb197069f5744b260\n",
      "http://api.openweathermap.org/data/2.5/weather?units=Imperial&APPID=6b22835a6d5245dfb197069f5744b260\n",
      "http://api.openweathermap.org/data/2.5/weather?units=Imperial&APPID=6b22835a6d5245dfb197069f5744b260\n",
      "http://api.openweathermap.org/data/2.5/weather?units=Imperial&APPID=6b22835a6d5245dfb197069f5744b260\n",
      "http://api.openweathermap.org/data/2.5/weather?units=Imperial&APPID=6b22835a6d5245dfb197069f5744b260\n",
      "http://api.openweathermap.org/data/2.5/weather?units=Imperial&APPID=6b22835a6d5245dfb197069f5744b260\n",
      "http://api.openweathermap.org/data/2.5/weather?units=Imperial&APPID=6b22835a6d5245dfb197069f5744b260\n",
      "http://api.openweathermap.org/data/2.5/weather?units=Imperial&APPID=6b22835a6d5245dfb197069f5744b260\n",
      "http://api.openweathermap.org/data/2.5/weather?units=Imperial&APPID=6b22835a6d5245dfb197069f5744b260\n",
      "http://api.openweathermap.org/data/2.5/weather?units=Imperial&APPID=6b22835a6d5245dfb197069f5744b260\n",
      "http://api.openweathermap.org/data/2.5/weather?units=Imperial&APPID=6b22835a6d5245dfb197069f5744b260\n",
      "http://api.openweathermap.org/data/2.5/weather?units=Imperial&APPID=6b22835a6d5245dfb197069f5744b260\n",
      "http://api.openweathermap.org/data/2.5/weather?units=Imperial&APPID=6b22835a6d5245dfb197069f5744b260\n",
      "http://api.openweathermap.org/data/2.5/weather?units=Imperial&APPID=6b22835a6d5245dfb197069f5744b260\n",
      "http://api.openweathermap.org/data/2.5/weather?units=Imperial&APPID=6b22835a6d5245dfb197069f5744b260\n",
      "http://api.openweathermap.org/data/2.5/weather?units=Imperial&APPID=6b22835a6d5245dfb197069f5744b260\n",
      "http://api.openweathermap.org/data/2.5/weather?units=Imperial&APPID=6b22835a6d5245dfb197069f5744b260\n",
      "http://api.openweathermap.org/data/2.5/weather?units=Imperial&APPID=6b22835a6d5245dfb197069f5744b260\n",
      "City not found!\n",
      "http://api.openweathermap.org/data/2.5/weather?units=Imperial&APPID=6b22835a6d5245dfb197069f5744b260\n",
      "http://api.openweathermap.org/data/2.5/weather?units=Imperial&APPID=6b22835a6d5245dfb197069f5744b260\n",
      "http://api.openweathermap.org/data/2.5/weather?units=Imperial&APPID=6b22835a6d5245dfb197069f5744b260\n",
      "http://api.openweathermap.org/data/2.5/weather?units=Imperial&APPID=6b22835a6d5245dfb197069f5744b260\n",
      "http://api.openweathermap.org/data/2.5/weather?units=Imperial&APPID=6b22835a6d5245dfb197069f5744b260\n",
      "http://api.openweathermap.org/data/2.5/weather?units=Imperial&APPID=6b22835a6d5245dfb197069f5744b260\n",
      "http://api.openweathermap.org/data/2.5/weather?units=Imperial&APPID=6b22835a6d5245dfb197069f5744b260\n",
      "http://api.openweathermap.org/data/2.5/weather?units=Imperial&APPID=6b22835a6d5245dfb197069f5744b260\n",
      "http://api.openweathermap.org/data/2.5/weather?units=Imperial&APPID=6b22835a6d5245dfb197069f5744b260\n",
      "http://api.openweathermap.org/data/2.5/weather?units=Imperial&APPID=6b22835a6d5245dfb197069f5744b260\n",
      "http://api.openweathermap.org/data/2.5/weather?units=Imperial&APPID=6b22835a6d5245dfb197069f5744b260\n",
      "http://api.openweathermap.org/data/2.5/weather?units=Imperial&APPID=6b22835a6d5245dfb197069f5744b260\n",
      "http://api.openweathermap.org/data/2.5/weather?units=Imperial&APPID=6b22835a6d5245dfb197069f5744b260\n",
      "http://api.openweathermap.org/data/2.5/weather?units=Imperial&APPID=6b22835a6d5245dfb197069f5744b260\n",
      "City not found!\n",
      "http://api.openweathermap.org/data/2.5/weather?units=Imperial&APPID=6b22835a6d5245dfb197069f5744b260\n",
      "http://api.openweathermap.org/data/2.5/weather?units=Imperial&APPID=6b22835a6d5245dfb197069f5744b260\n",
      "http://api.openweathermap.org/data/2.5/weather?units=Imperial&APPID=6b22835a6d5245dfb197069f5744b260\n",
      "http://api.openweathermap.org/data/2.5/weather?units=Imperial&APPID=6b22835a6d5245dfb197069f5744b260\n",
      "http://api.openweathermap.org/data/2.5/weather?units=Imperial&APPID=6b22835a6d5245dfb197069f5744b260\n",
      "City not found!\n",
      "http://api.openweathermap.org/data/2.5/weather?units=Imperial&APPID=6b22835a6d5245dfb197069f5744b260\n",
      "http://api.openweathermap.org/data/2.5/weather?units=Imperial&APPID=6b22835a6d5245dfb197069f5744b260\n",
      "http://api.openweathermap.org/data/2.5/weather?units=Imperial&APPID=6b22835a6d5245dfb197069f5744b260\n"
     ]
    },
    {
     "name": "stdout",
     "output_type": "stream",
     "text": [
      "http://api.openweathermap.org/data/2.5/weather?units=Imperial&APPID=6b22835a6d5245dfb197069f5744b260\n",
      "http://api.openweathermap.org/data/2.5/weather?units=Imperial&APPID=6b22835a6d5245dfb197069f5744b260\n",
      "http://api.openweathermap.org/data/2.5/weather?units=Imperial&APPID=6b22835a6d5245dfb197069f5744b260\n",
      "http://api.openweathermap.org/data/2.5/weather?units=Imperial&APPID=6b22835a6d5245dfb197069f5744b260\n",
      "http://api.openweathermap.org/data/2.5/weather?units=Imperial&APPID=6b22835a6d5245dfb197069f5744b260\n",
      "http://api.openweathermap.org/data/2.5/weather?units=Imperial&APPID=6b22835a6d5245dfb197069f5744b260\n",
      "http://api.openweathermap.org/data/2.5/weather?units=Imperial&APPID=6b22835a6d5245dfb197069f5744b260\n",
      "http://api.openweathermap.org/data/2.5/weather?units=Imperial&APPID=6b22835a6d5245dfb197069f5744b260\n",
      "http://api.openweathermap.org/data/2.5/weather?units=Imperial&APPID=6b22835a6d5245dfb197069f5744b260\n",
      "http://api.openweathermap.org/data/2.5/weather?units=Imperial&APPID=6b22835a6d5245dfb197069f5744b260\n",
      "http://api.openweathermap.org/data/2.5/weather?units=Imperial&APPID=6b22835a6d5245dfb197069f5744b260\n",
      "http://api.openweathermap.org/data/2.5/weather?units=Imperial&APPID=6b22835a6d5245dfb197069f5744b260\n",
      "http://api.openweathermap.org/data/2.5/weather?units=Imperial&APPID=6b22835a6d5245dfb197069f5744b260\n",
      "http://api.openweathermap.org/data/2.5/weather?units=Imperial&APPID=6b22835a6d5245dfb197069f5744b260\n",
      "City not found!\n",
      "http://api.openweathermap.org/data/2.5/weather?units=Imperial&APPID=6b22835a6d5245dfb197069f5744b260\n",
      "http://api.openweathermap.org/data/2.5/weather?units=Imperial&APPID=6b22835a6d5245dfb197069f5744b260\n",
      "http://api.openweathermap.org/data/2.5/weather?units=Imperial&APPID=6b22835a6d5245dfb197069f5744b260\n",
      "http://api.openweathermap.org/data/2.5/weather?units=Imperial&APPID=6b22835a6d5245dfb197069f5744b260\n",
      "http://api.openweathermap.org/data/2.5/weather?units=Imperial&APPID=6b22835a6d5245dfb197069f5744b260\n",
      "City not found!\n",
      "http://api.openweathermap.org/data/2.5/weather?units=Imperial&APPID=6b22835a6d5245dfb197069f5744b260\n",
      "http://api.openweathermap.org/data/2.5/weather?units=Imperial&APPID=6b22835a6d5245dfb197069f5744b260\n",
      "http://api.openweathermap.org/data/2.5/weather?units=Imperial&APPID=6b22835a6d5245dfb197069f5744b260\n",
      "http://api.openweathermap.org/data/2.5/weather?units=Imperial&APPID=6b22835a6d5245dfb197069f5744b260\n",
      "http://api.openweathermap.org/data/2.5/weather?units=Imperial&APPID=6b22835a6d5245dfb197069f5744b260\n",
      "http://api.openweathermap.org/data/2.5/weather?units=Imperial&APPID=6b22835a6d5245dfb197069f5744b260\n",
      "http://api.openweathermap.org/data/2.5/weather?units=Imperial&APPID=6b22835a6d5245dfb197069f5744b260\n",
      "http://api.openweathermap.org/data/2.5/weather?units=Imperial&APPID=6b22835a6d5245dfb197069f5744b260\n",
      "http://api.openweathermap.org/data/2.5/weather?units=Imperial&APPID=6b22835a6d5245dfb197069f5744b260\n",
      "http://api.openweathermap.org/data/2.5/weather?units=Imperial&APPID=6b22835a6d5245dfb197069f5744b260\n",
      "City not found!\n",
      "http://api.openweathermap.org/data/2.5/weather?units=Imperial&APPID=6b22835a6d5245dfb197069f5744b260\n",
      "http://api.openweathermap.org/data/2.5/weather?units=Imperial&APPID=6b22835a6d5245dfb197069f5744b260\n",
      "http://api.openweathermap.org/data/2.5/weather?units=Imperial&APPID=6b22835a6d5245dfb197069f5744b260\n",
      "http://api.openweathermap.org/data/2.5/weather?units=Imperial&APPID=6b22835a6d5245dfb197069f5744b260\n",
      "http://api.openweathermap.org/data/2.5/weather?units=Imperial&APPID=6b22835a6d5245dfb197069f5744b260\n",
      "http://api.openweathermap.org/data/2.5/weather?units=Imperial&APPID=6b22835a6d5245dfb197069f5744b260\n",
      "http://api.openweathermap.org/data/2.5/weather?units=Imperial&APPID=6b22835a6d5245dfb197069f5744b260\n",
      "http://api.openweathermap.org/data/2.5/weather?units=Imperial&APPID=6b22835a6d5245dfb197069f5744b260\n",
      "http://api.openweathermap.org/data/2.5/weather?units=Imperial&APPID=6b22835a6d5245dfb197069f5744b260\n",
      "http://api.openweathermap.org/data/2.5/weather?units=Imperial&APPID=6b22835a6d5245dfb197069f5744b260\n",
      "http://api.openweathermap.org/data/2.5/weather?units=Imperial&APPID=6b22835a6d5245dfb197069f5744b260\n",
      "http://api.openweathermap.org/data/2.5/weather?units=Imperial&APPID=6b22835a6d5245dfb197069f5744b260\n",
      "http://api.openweathermap.org/data/2.5/weather?units=Imperial&APPID=6b22835a6d5245dfb197069f5744b260\n",
      "http://api.openweathermap.org/data/2.5/weather?units=Imperial&APPID=6b22835a6d5245dfb197069f5744b260\n",
      "http://api.openweathermap.org/data/2.5/weather?units=Imperial&APPID=6b22835a6d5245dfb197069f5744b260\n",
      "http://api.openweathermap.org/data/2.5/weather?units=Imperial&APPID=6b22835a6d5245dfb197069f5744b260\n",
      "http://api.openweathermap.org/data/2.5/weather?units=Imperial&APPID=6b22835a6d5245dfb197069f5744b260\n",
      "City not found!\n",
      "http://api.openweathermap.org/data/2.5/weather?units=Imperial&APPID=6b22835a6d5245dfb197069f5744b260\n",
      "http://api.openweathermap.org/data/2.5/weather?units=Imperial&APPID=6b22835a6d5245dfb197069f5744b260\n",
      "http://api.openweathermap.org/data/2.5/weather?units=Imperial&APPID=6b22835a6d5245dfb197069f5744b260\n",
      "http://api.openweathermap.org/data/2.5/weather?units=Imperial&APPID=6b22835a6d5245dfb197069f5744b260\n",
      "http://api.openweathermap.org/data/2.5/weather?units=Imperial&APPID=6b22835a6d5245dfb197069f5744b260\n",
      "http://api.openweathermap.org/data/2.5/weather?units=Imperial&APPID=6b22835a6d5245dfb197069f5744b260\n",
      "http://api.openweathermap.org/data/2.5/weather?units=Imperial&APPID=6b22835a6d5245dfb197069f5744b260\n",
      "http://api.openweathermap.org/data/2.5/weather?units=Imperial&APPID=6b22835a6d5245dfb197069f5744b260\n",
      "http://api.openweathermap.org/data/2.5/weather?units=Imperial&APPID=6b22835a6d5245dfb197069f5744b260\n",
      "http://api.openweathermap.org/data/2.5/weather?units=Imperial&APPID=6b22835a6d5245dfb197069f5744b260\n",
      "http://api.openweathermap.org/data/2.5/weather?units=Imperial&APPID=6b22835a6d5245dfb197069f5744b260\n",
      "http://api.openweathermap.org/data/2.5/weather?units=Imperial&APPID=6b22835a6d5245dfb197069f5744b260\n",
      "http://api.openweathermap.org/data/2.5/weather?units=Imperial&APPID=6b22835a6d5245dfb197069f5744b260\n",
      "http://api.openweathermap.org/data/2.5/weather?units=Imperial&APPID=6b22835a6d5245dfb197069f5744b260\n",
      "http://api.openweathermap.org/data/2.5/weather?units=Imperial&APPID=6b22835a6d5245dfb197069f5744b260\n",
      "http://api.openweathermap.org/data/2.5/weather?units=Imperial&APPID=6b22835a6d5245dfb197069f5744b260\n",
      "http://api.openweathermap.org/data/2.5/weather?units=Imperial&APPID=6b22835a6d5245dfb197069f5744b260\n",
      "http://api.openweathermap.org/data/2.5/weather?units=Imperial&APPID=6b22835a6d5245dfb197069f5744b260\n",
      "http://api.openweathermap.org/data/2.5/weather?units=Imperial&APPID=6b22835a6d5245dfb197069f5744b260\n",
      "http://api.openweathermap.org/data/2.5/weather?units=Imperial&APPID=6b22835a6d5245dfb197069f5744b260\n",
      "http://api.openweathermap.org/data/2.5/weather?units=Imperial&APPID=6b22835a6d5245dfb197069f5744b260\n",
      "http://api.openweathermap.org/data/2.5/weather?units=Imperial&APPID=6b22835a6d5245dfb197069f5744b260\n",
      "http://api.openweathermap.org/data/2.5/weather?units=Imperial&APPID=6b22835a6d5245dfb197069f5744b260\n",
      "http://api.openweathermap.org/data/2.5/weather?units=Imperial&APPID=6b22835a6d5245dfb197069f5744b260\n",
      "http://api.openweathermap.org/data/2.5/weather?units=Imperial&APPID=6b22835a6d5245dfb197069f5744b260\n",
      "http://api.openweathermap.org/data/2.5/weather?units=Imperial&APPID=6b22835a6d5245dfb197069f5744b260\n",
      "http://api.openweathermap.org/data/2.5/weather?units=Imperial&APPID=6b22835a6d5245dfb197069f5744b260\n",
      "http://api.openweathermap.org/data/2.5/weather?units=Imperial&APPID=6b22835a6d5245dfb197069f5744b260\n",
      "http://api.openweathermap.org/data/2.5/weather?units=Imperial&APPID=6b22835a6d5245dfb197069f5744b260\n",
      "City not found!\n",
      "http://api.openweathermap.org/data/2.5/weather?units=Imperial&APPID=6b22835a6d5245dfb197069f5744b260\n",
      "http://api.openweathermap.org/data/2.5/weather?units=Imperial&APPID=6b22835a6d5245dfb197069f5744b260\n",
      "http://api.openweathermap.org/data/2.5/weather?units=Imperial&APPID=6b22835a6d5245dfb197069f5744b260\n",
      "http://api.openweathermap.org/data/2.5/weather?units=Imperial&APPID=6b22835a6d5245dfb197069f5744b260\n",
      "http://api.openweathermap.org/data/2.5/weather?units=Imperial&APPID=6b22835a6d5245dfb197069f5744b260\n",
      "http://api.openweathermap.org/data/2.5/weather?units=Imperial&APPID=6b22835a6d5245dfb197069f5744b260\n"
     ]
    },
    {
     "name": "stdout",
     "output_type": "stream",
     "text": [
      "http://api.openweathermap.org/data/2.5/weather?units=Imperial&APPID=6b22835a6d5245dfb197069f5744b260\n",
      "http://api.openweathermap.org/data/2.5/weather?units=Imperial&APPID=6b22835a6d5245dfb197069f5744b260\n",
      "http://api.openweathermap.org/data/2.5/weather?units=Imperial&APPID=6b22835a6d5245dfb197069f5744b260\n",
      "http://api.openweathermap.org/data/2.5/weather?units=Imperial&APPID=6b22835a6d5245dfb197069f5744b260\n",
      "http://api.openweathermap.org/data/2.5/weather?units=Imperial&APPID=6b22835a6d5245dfb197069f5744b260\n",
      "http://api.openweathermap.org/data/2.5/weather?units=Imperial&APPID=6b22835a6d5245dfb197069f5744b260\n",
      "http://api.openweathermap.org/data/2.5/weather?units=Imperial&APPID=6b22835a6d5245dfb197069f5744b260\n",
      "http://api.openweathermap.org/data/2.5/weather?units=Imperial&APPID=6b22835a6d5245dfb197069f5744b260\n",
      "http://api.openweathermap.org/data/2.5/weather?units=Imperial&APPID=6b22835a6d5245dfb197069f5744b260\n",
      "http://api.openweathermap.org/data/2.5/weather?units=Imperial&APPID=6b22835a6d5245dfb197069f5744b260\n",
      "http://api.openweathermap.org/data/2.5/weather?units=Imperial&APPID=6b22835a6d5245dfb197069f5744b260\n",
      "http://api.openweathermap.org/data/2.5/weather?units=Imperial&APPID=6b22835a6d5245dfb197069f5744b260\n",
      "http://api.openweathermap.org/data/2.5/weather?units=Imperial&APPID=6b22835a6d5245dfb197069f5744b260\n",
      "http://api.openweathermap.org/data/2.5/weather?units=Imperial&APPID=6b22835a6d5245dfb197069f5744b260\n",
      "http://api.openweathermap.org/data/2.5/weather?units=Imperial&APPID=6b22835a6d5245dfb197069f5744b260\n",
      "http://api.openweathermap.org/data/2.5/weather?units=Imperial&APPID=6b22835a6d5245dfb197069f5744b260\n",
      "http://api.openweathermap.org/data/2.5/weather?units=Imperial&APPID=6b22835a6d5245dfb197069f5744b260\n",
      "http://api.openweathermap.org/data/2.5/weather?units=Imperial&APPID=6b22835a6d5245dfb197069f5744b260\n",
      "http://api.openweathermap.org/data/2.5/weather?units=Imperial&APPID=6b22835a6d5245dfb197069f5744b260\n",
      "http://api.openweathermap.org/data/2.5/weather?units=Imperial&APPID=6b22835a6d5245dfb197069f5744b260\n",
      "http://api.openweathermap.org/data/2.5/weather?units=Imperial&APPID=6b22835a6d5245dfb197069f5744b260\n",
      "http://api.openweathermap.org/data/2.5/weather?units=Imperial&APPID=6b22835a6d5245dfb197069f5744b260\n",
      "http://api.openweathermap.org/data/2.5/weather?units=Imperial&APPID=6b22835a6d5245dfb197069f5744b260\n",
      "http://api.openweathermap.org/data/2.5/weather?units=Imperial&APPID=6b22835a6d5245dfb197069f5744b260\n",
      "http://api.openweathermap.org/data/2.5/weather?units=Imperial&APPID=6b22835a6d5245dfb197069f5744b260\n",
      "http://api.openweathermap.org/data/2.5/weather?units=Imperial&APPID=6b22835a6d5245dfb197069f5744b260\n",
      "http://api.openweathermap.org/data/2.5/weather?units=Imperial&APPID=6b22835a6d5245dfb197069f5744b260\n",
      "http://api.openweathermap.org/data/2.5/weather?units=Imperial&APPID=6b22835a6d5245dfb197069f5744b260\n",
      "http://api.openweathermap.org/data/2.5/weather?units=Imperial&APPID=6b22835a6d5245dfb197069f5744b260\n",
      "City not found!\n",
      "http://api.openweathermap.org/data/2.5/weather?units=Imperial&APPID=6b22835a6d5245dfb197069f5744b260\n",
      "http://api.openweathermap.org/data/2.5/weather?units=Imperial&APPID=6b22835a6d5245dfb197069f5744b260\n",
      "http://api.openweathermap.org/data/2.5/weather?units=Imperial&APPID=6b22835a6d5245dfb197069f5744b260\n",
      "http://api.openweathermap.org/data/2.5/weather?units=Imperial&APPID=6b22835a6d5245dfb197069f5744b260\n",
      "http://api.openweathermap.org/data/2.5/weather?units=Imperial&APPID=6b22835a6d5245dfb197069f5744b260\n",
      "http://api.openweathermap.org/data/2.5/weather?units=Imperial&APPID=6b22835a6d5245dfb197069f5744b260\n",
      "http://api.openweathermap.org/data/2.5/weather?units=Imperial&APPID=6b22835a6d5245dfb197069f5744b260\n",
      "http://api.openweathermap.org/data/2.5/weather?units=Imperial&APPID=6b22835a6d5245dfb197069f5744b260\n",
      "http://api.openweathermap.org/data/2.5/weather?units=Imperial&APPID=6b22835a6d5245dfb197069f5744b260\n",
      "http://api.openweathermap.org/data/2.5/weather?units=Imperial&APPID=6b22835a6d5245dfb197069f5744b260\n",
      "http://api.openweathermap.org/data/2.5/weather?units=Imperial&APPID=6b22835a6d5245dfb197069f5744b260\n",
      "http://api.openweathermap.org/data/2.5/weather?units=Imperial&APPID=6b22835a6d5245dfb197069f5744b260\n",
      "http://api.openweathermap.org/data/2.5/weather?units=Imperial&APPID=6b22835a6d5245dfb197069f5744b260\n",
      "http://api.openweathermap.org/data/2.5/weather?units=Imperial&APPID=6b22835a6d5245dfb197069f5744b260\n",
      "http://api.openweathermap.org/data/2.5/weather?units=Imperial&APPID=6b22835a6d5245dfb197069f5744b260\n",
      "http://api.openweathermap.org/data/2.5/weather?units=Imperial&APPID=6b22835a6d5245dfb197069f5744b260\n",
      "http://api.openweathermap.org/data/2.5/weather?units=Imperial&APPID=6b22835a6d5245dfb197069f5744b260\n",
      "http://api.openweathermap.org/data/2.5/weather?units=Imperial&APPID=6b22835a6d5245dfb197069f5744b260\n",
      "http://api.openweathermap.org/data/2.5/weather?units=Imperial&APPID=6b22835a6d5245dfb197069f5744b260\n",
      "http://api.openweathermap.org/data/2.5/weather?units=Imperial&APPID=6b22835a6d5245dfb197069f5744b260\n",
      "http://api.openweathermap.org/data/2.5/weather?units=Imperial&APPID=6b22835a6d5245dfb197069f5744b260\n",
      "http://api.openweathermap.org/data/2.5/weather?units=Imperial&APPID=6b22835a6d5245dfb197069f5744b260\n",
      "http://api.openweathermap.org/data/2.5/weather?units=Imperial&APPID=6b22835a6d5245dfb197069f5744b260\n",
      "http://api.openweathermap.org/data/2.5/weather?units=Imperial&APPID=6b22835a6d5245dfb197069f5744b260\n",
      "http://api.openweathermap.org/data/2.5/weather?units=Imperial&APPID=6b22835a6d5245dfb197069f5744b260\n",
      "http://api.openweathermap.org/data/2.5/weather?units=Imperial&APPID=6b22835a6d5245dfb197069f5744b260\n",
      "http://api.openweathermap.org/data/2.5/weather?units=Imperial&APPID=6b22835a6d5245dfb197069f5744b260\n",
      "http://api.openweathermap.org/data/2.5/weather?units=Imperial&APPID=6b22835a6d5245dfb197069f5744b260\n",
      "http://api.openweathermap.org/data/2.5/weather?units=Imperial&APPID=6b22835a6d5245dfb197069f5744b260\n",
      "http://api.openweathermap.org/data/2.5/weather?units=Imperial&APPID=6b22835a6d5245dfb197069f5744b260\n",
      "http://api.openweathermap.org/data/2.5/weather?units=Imperial&APPID=6b22835a6d5245dfb197069f5744b260\n",
      "http://api.openweathermap.org/data/2.5/weather?units=Imperial&APPID=6b22835a6d5245dfb197069f5744b260\n",
      "http://api.openweathermap.org/data/2.5/weather?units=Imperial&APPID=6b22835a6d5245dfb197069f5744b260\n",
      "http://api.openweathermap.org/data/2.5/weather?units=Imperial&APPID=6b22835a6d5245dfb197069f5744b260\n",
      "http://api.openweathermap.org/data/2.5/weather?units=Imperial&APPID=6b22835a6d5245dfb197069f5744b260\n",
      "http://api.openweathermap.org/data/2.5/weather?units=Imperial&APPID=6b22835a6d5245dfb197069f5744b260\n",
      "http://api.openweathermap.org/data/2.5/weather?units=Imperial&APPID=6b22835a6d5245dfb197069f5744b260\n",
      "http://api.openweathermap.org/data/2.5/weather?units=Imperial&APPID=6b22835a6d5245dfb197069f5744b260\n",
      "http://api.openweathermap.org/data/2.5/weather?units=Imperial&APPID=6b22835a6d5245dfb197069f5744b260\n",
      "http://api.openweathermap.org/data/2.5/weather?units=Imperial&APPID=6b22835a6d5245dfb197069f5744b260\n",
      "http://api.openweathermap.org/data/2.5/weather?units=Imperial&APPID=6b22835a6d5245dfb197069f5744b260\n",
      "http://api.openweathermap.org/data/2.5/weather?units=Imperial&APPID=6b22835a6d5245dfb197069f5744b260\n",
      "http://api.openweathermap.org/data/2.5/weather?units=Imperial&APPID=6b22835a6d5245dfb197069f5744b260\n",
      "http://api.openweathermap.org/data/2.5/weather?units=Imperial&APPID=6b22835a6d5245dfb197069f5744b260\n",
      "http://api.openweathermap.org/data/2.5/weather?units=Imperial&APPID=6b22835a6d5245dfb197069f5744b260\n",
      "City not found!\n",
      "http://api.openweathermap.org/data/2.5/weather?units=Imperial&APPID=6b22835a6d5245dfb197069f5744b260\n",
      "http://api.openweathermap.org/data/2.5/weather?units=Imperial&APPID=6b22835a6d5245dfb197069f5744b260\n",
      "City not found!\n",
      "http://api.openweathermap.org/data/2.5/weather?units=Imperial&APPID=6b22835a6d5245dfb197069f5744b260\n",
      "http://api.openweathermap.org/data/2.5/weather?units=Imperial&APPID=6b22835a6d5245dfb197069f5744b260\n",
      "http://api.openweathermap.org/data/2.5/weather?units=Imperial&APPID=6b22835a6d5245dfb197069f5744b260\n",
      "City not found!\n",
      "http://api.openweathermap.org/data/2.5/weather?units=Imperial&APPID=6b22835a6d5245dfb197069f5744b260\n",
      "http://api.openweathermap.org/data/2.5/weather?units=Imperial&APPID=6b22835a6d5245dfb197069f5744b260\n",
      "http://api.openweathermap.org/data/2.5/weather?units=Imperial&APPID=6b22835a6d5245dfb197069f5744b260\n"
     ]
    },
    {
     "name": "stdout",
     "output_type": "stream",
     "text": [
      "http://api.openweathermap.org/data/2.5/weather?units=Imperial&APPID=6b22835a6d5245dfb197069f5744b260\n",
      "http://api.openweathermap.org/data/2.5/weather?units=Imperial&APPID=6b22835a6d5245dfb197069f5744b260\n",
      "http://api.openweathermap.org/data/2.5/weather?units=Imperial&APPID=6b22835a6d5245dfb197069f5744b260\n",
      "http://api.openweathermap.org/data/2.5/weather?units=Imperial&APPID=6b22835a6d5245dfb197069f5744b260\n",
      "City not found!\n",
      "http://api.openweathermap.org/data/2.5/weather?units=Imperial&APPID=6b22835a6d5245dfb197069f5744b260\n",
      "http://api.openweathermap.org/data/2.5/weather?units=Imperial&APPID=6b22835a6d5245dfb197069f5744b260\n",
      "http://api.openweathermap.org/data/2.5/weather?units=Imperial&APPID=6b22835a6d5245dfb197069f5744b260\n",
      "http://api.openweathermap.org/data/2.5/weather?units=Imperial&APPID=6b22835a6d5245dfb197069f5744b260\n",
      "http://api.openweathermap.org/data/2.5/weather?units=Imperial&APPID=6b22835a6d5245dfb197069f5744b260\n",
      "http://api.openweathermap.org/data/2.5/weather?units=Imperial&APPID=6b22835a6d5245dfb197069f5744b260\n",
      "http://api.openweathermap.org/data/2.5/weather?units=Imperial&APPID=6b22835a6d5245dfb197069f5744b260\n",
      "http://api.openweathermap.org/data/2.5/weather?units=Imperial&APPID=6b22835a6d5245dfb197069f5744b260\n",
      "http://api.openweathermap.org/data/2.5/weather?units=Imperial&APPID=6b22835a6d5245dfb197069f5744b260\n",
      "http://api.openweathermap.org/data/2.5/weather?units=Imperial&APPID=6b22835a6d5245dfb197069f5744b260\n",
      "http://api.openweathermap.org/data/2.5/weather?units=Imperial&APPID=6b22835a6d5245dfb197069f5744b260\n",
      "http://api.openweathermap.org/data/2.5/weather?units=Imperial&APPID=6b22835a6d5245dfb197069f5744b260\n",
      "http://api.openweathermap.org/data/2.5/weather?units=Imperial&APPID=6b22835a6d5245dfb197069f5744b260\n",
      "http://api.openweathermap.org/data/2.5/weather?units=Imperial&APPID=6b22835a6d5245dfb197069f5744b260\n",
      "http://api.openweathermap.org/data/2.5/weather?units=Imperial&APPID=6b22835a6d5245dfb197069f5744b260\n",
      "http://api.openweathermap.org/data/2.5/weather?units=Imperial&APPID=6b22835a6d5245dfb197069f5744b260\n",
      "http://api.openweathermap.org/data/2.5/weather?units=Imperial&APPID=6b22835a6d5245dfb197069f5744b260\n",
      "http://api.openweathermap.org/data/2.5/weather?units=Imperial&APPID=6b22835a6d5245dfb197069f5744b260\n",
      "http://api.openweathermap.org/data/2.5/weather?units=Imperial&APPID=6b22835a6d5245dfb197069f5744b260\n",
      "http://api.openweathermap.org/data/2.5/weather?units=Imperial&APPID=6b22835a6d5245dfb197069f5744b260\n",
      "http://api.openweathermap.org/data/2.5/weather?units=Imperial&APPID=6b22835a6d5245dfb197069f5744b260\n",
      "http://api.openweathermap.org/data/2.5/weather?units=Imperial&APPID=6b22835a6d5245dfb197069f5744b260\n",
      "City not found!\n",
      "http://api.openweathermap.org/data/2.5/weather?units=Imperial&APPID=6b22835a6d5245dfb197069f5744b260\n",
      "http://api.openweathermap.org/data/2.5/weather?units=Imperial&APPID=6b22835a6d5245dfb197069f5744b260\n",
      "http://api.openweathermap.org/data/2.5/weather?units=Imperial&APPID=6b22835a6d5245dfb197069f5744b260\n",
      "http://api.openweathermap.org/data/2.5/weather?units=Imperial&APPID=6b22835a6d5245dfb197069f5744b260\n",
      "http://api.openweathermap.org/data/2.5/weather?units=Imperial&APPID=6b22835a6d5245dfb197069f5744b260\n",
      "http://api.openweathermap.org/data/2.5/weather?units=Imperial&APPID=6b22835a6d5245dfb197069f5744b260\n",
      "http://api.openweathermap.org/data/2.5/weather?units=Imperial&APPID=6b22835a6d5245dfb197069f5744b260\n",
      "http://api.openweathermap.org/data/2.5/weather?units=Imperial&APPID=6b22835a6d5245dfb197069f5744b260\n",
      "http://api.openweathermap.org/data/2.5/weather?units=Imperial&APPID=6b22835a6d5245dfb197069f5744b260\n",
      "City not found!\n",
      "http://api.openweathermap.org/data/2.5/weather?units=Imperial&APPID=6b22835a6d5245dfb197069f5744b260\n",
      "http://api.openweathermap.org/data/2.5/weather?units=Imperial&APPID=6b22835a6d5245dfb197069f5744b260\n",
      "-------------------------\n",
      "Data Retrieval Complete\n",
      "-------------------------\n"
     ]
    }
   ],
   "source": [
    "new_cities = []\n",
    "lat = []\n",
    "lng = []\n",
    "temp = []\n",
    "humidity = []\n",
    "cloudiness = []\n",
    "wind = []\n",
    "country = []\n",
    "date = []\n",
    "temp_max= []\n",
    "\n",
    "record_counter = 0\n",
    "set_counter = 0\n",
    "\n",
    "print('------------------------')\n",
    "print('Beginning Data Retrieval')\n",
    "print('------------------------')\n",
    "\n",
    "for city in cities:\n",
    "    query_url = url + \"&q=\" + city\n",
    "    # Get weather data\n",
    "    response = requests.get(query_url).json()\n",
    "    #if record_counter < 50:\n",
    "      #  record_counter += 1\n",
    "   # else:\n",
    "      #  set_counter += 1\n",
    "       # record_counter = 0\n",
    "\n",
    "   # print('Processing record {} of set {} | {}'.format(record_counter, set_counter, city))\n",
    "    print(url)\n",
    "    try:\n",
    "        cloudiness.append(response['clouds']['all'])\n",
    "        country.append(response['sys']['country'])\n",
    "        date.append(response['dt'])\n",
    "        humidity.append(response['main']['humidity'])\n",
    "        temp.append(response['main']['temp_max'])\n",
    "        lat.append(response['coord']['lat'])\n",
    "        lng.append(response['coord']['lon'])\n",
    "        wind.append(response['wind']['speed'])\n",
    "        new_cities.append(city)\n",
    "    except:\n",
    "        print(\"City not found!\")\n",
    "        pass\n",
    "\n",
    "print('-------------------------')\n",
    "print('Data Retrieval Complete')\n",
    "print('-------------------------')"
   ]
  },
  {
   "cell_type": "code",
   "execution_count": 32,
   "metadata": {},
   "outputs": [
    {
     "data": {
      "text/plain": [
       "563"
      ]
     },
     "execution_count": 32,
     "metadata": {},
     "output_type": "execute_result"
    }
   ],
   "source": [
    "len(new_cities)"
   ]
  },
  {
   "cell_type": "code",
   "execution_count": 34,
   "metadata": {},
   "outputs": [
    {
     "data": {
      "text/plain": [
       "563"
      ]
     },
     "execution_count": 34,
     "metadata": {},
     "output_type": "execute_result"
    }
   ],
   "source": [
    "len(lat)"
   ]
  },
  {
   "cell_type": "code",
   "execution_count": 35,
   "metadata": {},
   "outputs": [
    {
     "data": {
      "text/plain": [
       "563"
      ]
     },
     "execution_count": 35,
     "metadata": {},
     "output_type": "execute_result"
    }
   ],
   "source": [
    "len(lng)"
   ]
  },
  {
   "cell_type": "code",
   "execution_count": 37,
   "metadata": {},
   "outputs": [],
   "source": [
    "weather_df=pd.DataFrame({\"City\":new_cities, \n",
    "                         \"Lat\": lat,\n",
    "                         \"Lng\": lng,\n",
    "                         \"Max Temp\": temp, \n",
    "                         \"Humidity\": humidity,\n",
    "                        \"Cloudiness\": cloudiness,\n",
    "                         \"Wind Speed\": wind,\n",
    "                        \"Country\": country,\n",
    "                        \"Date\": date})"
   ]
  },
  {
   "cell_type": "code",
   "execution_count": 38,
   "metadata": {},
   "outputs": [
    {
     "data": {
      "text/html": [
       "<div>\n",
       "<style scoped>\n",
       "    .dataframe tbody tr th:only-of-type {\n",
       "        vertical-align: middle;\n",
       "    }\n",
       "\n",
       "    .dataframe tbody tr th {\n",
       "        vertical-align: top;\n",
       "    }\n",
       "\n",
       "    .dataframe thead th {\n",
       "        text-align: right;\n",
       "    }\n",
       "</style>\n",
       "<table border=\"1\" class=\"dataframe\">\n",
       "  <thead>\n",
       "    <tr style=\"text-align: right;\">\n",
       "      <th></th>\n",
       "      <th>City</th>\n",
       "      <th>Lat</th>\n",
       "      <th>Lng</th>\n",
       "      <th>Max Temp</th>\n",
       "      <th>Humidity</th>\n",
       "      <th>Cloudiness</th>\n",
       "      <th>Wind Speed</th>\n",
       "      <th>Country</th>\n",
       "      <th>Date</th>\n",
       "    </tr>\n",
       "  </thead>\n",
       "  <tbody>\n",
       "    <tr>\n",
       "      <th>0</th>\n",
       "      <td>taseyevo</td>\n",
       "      <td>57.22</td>\n",
       "      <td>94.90</td>\n",
       "      <td>20.91</td>\n",
       "      <td>96</td>\n",
       "      <td>100</td>\n",
       "      <td>11.21</td>\n",
       "      <td>RU</td>\n",
       "      <td>1608389842</td>\n",
       "    </tr>\n",
       "    <tr>\n",
       "      <th>1</th>\n",
       "      <td>bluff</td>\n",
       "      <td>-46.60</td>\n",
       "      <td>168.33</td>\n",
       "      <td>53.01</td>\n",
       "      <td>85</td>\n",
       "      <td>69</td>\n",
       "      <td>8.99</td>\n",
       "      <td>NZ</td>\n",
       "      <td>1608389843</td>\n",
       "    </tr>\n",
       "    <tr>\n",
       "      <th>2</th>\n",
       "      <td>yinchuan</td>\n",
       "      <td>38.47</td>\n",
       "      <td>106.27</td>\n",
       "      <td>20.93</td>\n",
       "      <td>77</td>\n",
       "      <td>0</td>\n",
       "      <td>2.64</td>\n",
       "      <td>CN</td>\n",
       "      <td>1608389843</td>\n",
       "    </tr>\n",
       "    <tr>\n",
       "      <th>3</th>\n",
       "      <td>council bluffs</td>\n",
       "      <td>41.26</td>\n",
       "      <td>-95.86</td>\n",
       "      <td>19.40</td>\n",
       "      <td>78</td>\n",
       "      <td>75</td>\n",
       "      <td>8.05</td>\n",
       "      <td>US</td>\n",
       "      <td>1608389738</td>\n",
       "    </tr>\n",
       "    <tr>\n",
       "      <th>4</th>\n",
       "      <td>lashio</td>\n",
       "      <td>22.93</td>\n",
       "      <td>97.75</td>\n",
       "      <td>55.40</td>\n",
       "      <td>76</td>\n",
       "      <td>1</td>\n",
       "      <td>1.79</td>\n",
       "      <td>MM</td>\n",
       "      <td>1608389843</td>\n",
       "    </tr>\n",
       "  </tbody>\n",
       "</table>\n",
       "</div>"
      ],
      "text/plain": [
       "             City    Lat     Lng  Max Temp  Humidity  Cloudiness  Wind Speed  \\\n",
       "0        taseyevo  57.22   94.90     20.91        96         100       11.21   \n",
       "1           bluff -46.60  168.33     53.01        85          69        8.99   \n",
       "2        yinchuan  38.47  106.27     20.93        77           0        2.64   \n",
       "3  council bluffs  41.26  -95.86     19.40        78          75        8.05   \n",
       "4          lashio  22.93   97.75     55.40        76           1        1.79   \n",
       "\n",
       "  Country        Date  \n",
       "0      RU  1608389842  \n",
       "1      NZ  1608389843  \n",
       "2      CN  1608389843  \n",
       "3      US  1608389738  \n",
       "4      MM  1608389843  "
      ]
     },
     "execution_count": 38,
     "metadata": {},
     "output_type": "execute_result"
    }
   ],
   "source": [
    "weather_df.head()"
   ]
  },
  {
   "cell_type": "markdown",
   "metadata": {},
   "source": [
    "## Inspect the data and remove the cities where the humidity > 100%.\n",
    "----\n",
    "Skip this step if there are no cities that have humidity > 100%. "
   ]
  },
  {
   "cell_type": "code",
   "execution_count": 39,
   "metadata": {},
   "outputs": [
    {
     "data": {
      "text/html": [
       "<div>\n",
       "<style scoped>\n",
       "    .dataframe tbody tr th:only-of-type {\n",
       "        vertical-align: middle;\n",
       "    }\n",
       "\n",
       "    .dataframe tbody tr th {\n",
       "        vertical-align: top;\n",
       "    }\n",
       "\n",
       "    .dataframe thead th {\n",
       "        text-align: right;\n",
       "    }\n",
       "</style>\n",
       "<table border=\"1\" class=\"dataframe\">\n",
       "  <thead>\n",
       "    <tr style=\"text-align: right;\">\n",
       "      <th></th>\n",
       "      <th>City</th>\n",
       "      <th>Lat</th>\n",
       "      <th>Lng</th>\n",
       "      <th>Max Temp</th>\n",
       "      <th>Humidity</th>\n",
       "      <th>Cloudiness</th>\n",
       "      <th>Wind Speed</th>\n",
       "      <th>Country</th>\n",
       "      <th>Date</th>\n",
       "    </tr>\n",
       "  </thead>\n",
       "  <tbody>\n",
       "  </tbody>\n",
       "</table>\n",
       "</div>"
      ],
      "text/plain": [
       "Empty DataFrame\n",
       "Columns: [City, Lat, Lng, Max Temp, Humidity, Cloudiness, Wind Speed, Country, Date]\n",
       "Index: []"
      ]
     },
     "execution_count": 39,
     "metadata": {},
     "output_type": "execute_result"
    }
   ],
   "source": [
    "weather_df[\"Humidity\"] = pd.to_numeric(weather_df[\"Humidity\"])\n",
    "\n",
    "humidity_df = weather_df.loc[weather_df[\"Humidity\"] > 100]\n",
    "humidity_df"
   ]
  },
  {
   "cell_type": "code",
   "execution_count": null,
   "metadata": {},
   "outputs": [],
   "source": [
    "#  Get the indices of cities that have humidity over 100%.\n"
   ]
  },
  {
   "cell_type": "code",
   "execution_count": null,
   "metadata": {},
   "outputs": [],
   "source": [
    "# Make a new DataFrame equal to the city data to drop all humidity outliers by index.\n",
    "# Passing \"inplace=False\" will make a copy of the city_data DataFrame, which we call \"clean_city_data\".\n"
   ]
  },
  {
   "cell_type": "code",
   "execution_count": null,
   "metadata": {},
   "outputs": [],
   "source": [
    "\n"
   ]
  },
  {
   "cell_type": "markdown",
   "metadata": {},
   "source": [
    "## Plotting the Data\n",
    "* Use proper labeling of the plots using plot titles (including date of analysis) and axes labels.\n",
    "* Save the plotted figures as .pngs."
   ]
  },
  {
   "cell_type": "markdown",
   "metadata": {},
   "source": [
    "## Latitude vs. Temperature Plot"
   ]
  },
  {
   "cell_type": "code",
   "execution_count": 47,
   "metadata": {
    "scrolled": true
   },
   "outputs": [
    {
     "data": {
      "image/png": "[encoded data removed]",
      "text/plain": [
       "<Figure size 432x288 with 1 Axes>"
      ]
     },
     "metadata": {
      "needs_background": "light"
     },
     "output_type": "display_data"
    }
   ],
   "source": [
    "x=weather_df['Lat']\n",
    "y=weather_df['Max Temp']\n",
    "\n",
    "plt.scatter(x,y, marker='o', c = \"green\")\n",
    "plt.ylabel('Max Temperature (F)')\n",
    "plt.xlabel('Latitude')\n",
    "plt.title('Latitude vs Max Temperature (12/19/20)')\n",
    "plt.grid()\n",
    "\n",
    "plt.savefig(\"Latitude vs. Max Temperature.png\")\n",
    "plt.show()"
   ]
  },
  {
   "cell_type": "markdown",
   "metadata": {},
   "source": [
    "## Latitude vs. Humidity Plot"
   ]
  },
  {
   "cell_type": "code",
   "execution_count": 55,
   "metadata": {
    "scrolled": true
   },
   "outputs": [
    {
     "data": {
      "image/png": "[encoded data removed]",
      "text/plain": [
       "<Figure size 432x288 with 1 Axes>"
      ]
     },
     "metadata": {
      "needs_background": "light"
     },
     "output_type": "display_data"
    }
   ],
   "source": [
    "x=weather_df['Lat']\n",
    "y=weather_df['Humidity']\n",
    "\n",
    "plt.scatter(x,y, marker='o', color = 'c')\n",
    "plt.ylabel('Max Temperature (F)')\n",
    "plt.xlabel('Humidity (%)')\n",
    "plt.title('Humidity vs Max Temperature (12/19/20)')\n",
    "plt.grid()\n",
    "\n",
    "plt.savefig(\"Latitude vs Humidity.png\")\n",
    "plt.show()"
   ]
  },
  {
   "cell_type": "markdown",
   "metadata": {},
   "source": [
    "## Latitude vs. Cloudiness Plot"
   ]
  },
  {
   "cell_type": "code",
   "execution_count": 54,
   "metadata": {},
   "outputs": [
    {
     "data": {
      "image/png": "[encoded data removed]",
      "text/plain": [
       "<Figure size 432x288 with 1 Axes>"
      ]
     },
     "metadata": {
      "needs_background": "light"
     },
     "output_type": "display_data"
    }
   ],
   "source": [
    "x=weather_df['Lat']\n",
    "y=weather_df['Cloudiness']\n",
    "\n",
    "plt.scatter(x,y, marker='o',color = 'navy')\n",
    "plt.ylabel('Cloudiness (%)')\n",
    "plt.xlabel('Latitude')\n",
    "plt.title('Latitude vs Cloudiness (12/19/20)')\n",
    "plt.grid()\n",
    "\n",
    "plt.savefig(\"Latitude vs Cloudiness.png\")\n",
    "plt.show()"
   ]
  },
  {
   "cell_type": "markdown",
   "metadata": {},
   "source": [
    "## Latitude vs. Wind Speed Plot"
   ]
  },
  {
   "cell_type": "code",
   "execution_count": 56,
   "metadata": {},
   "outputs": [
    {
     "data": {
      "image/png": "[encoded data removed]",
      "text/plain": [
       "<Figure size 432x288 with 1 Axes>"
      ]
     },
     "metadata": {
      "needs_background": "light"
     },
     "output_type": "display_data"
    }
   ],
   "source": [
    "x=weather_df['Lat']\n",
    "y=weather_df['Wind Speed']\n",
    "\n",
    "plt.scatter(x,y, marker='o', color='coral')\n",
    "plt.ylabel('Wind Speed (mph)')\n",
    "plt.xlabel('Latitude')\n",
    "plt.title('Latitude vs Wind Speed (12/19/20)')\n",
    "plt.grid()\n",
    "\n",
    "plt.savefig(\"Latitude vs Wind Speed.png\")\n",
    "plt.show()"
   ]
  },
  {
   "cell_type": "markdown",
   "metadata": {},
   "source": [
    "## Linear Regression"
   ]
  },
  {
   "cell_type": "code",
   "execution_count": 59,
   "metadata": {},
   "outputs": [
    {
     "data": {
      "text/html": [
       "<div>\n",
       "<style scoped>\n",
       "    .dataframe tbody tr th:only-of-type {\n",
       "        vertical-align: middle;\n",
       "    }\n",
       "\n",
       "    .dataframe tbody tr th {\n",
       "        vertical-align: top;\n",
       "    }\n",
       "\n",
       "    .dataframe thead th {\n",
       "        text-align: right;\n",
       "    }\n",
       "</style>\n",
       "<table border=\"1\" class=\"dataframe\">\n",
       "  <thead>\n",
       "    <tr style=\"text-align: right;\">\n",
       "      <th></th>\n",
       "      <th>City</th>\n",
       "      <th>Lat</th>\n",
       "      <th>Lng</th>\n",
       "      <th>Max Temp</th>\n",
       "      <th>Humidity</th>\n",
       "      <th>Cloudiness</th>\n",
       "      <th>Wind Speed</th>\n",
       "      <th>Country</th>\n",
       "      <th>Date</th>\n",
       "    </tr>\n",
       "  </thead>\n",
       "  <tbody>\n",
       "    <tr>\n",
       "      <th>0</th>\n",
       "      <td>taseyevo</td>\n",
       "      <td>57.22</td>\n",
       "      <td>94.90</td>\n",
       "      <td>20.91</td>\n",
       "      <td>96</td>\n",
       "      <td>100</td>\n",
       "      <td>11.21</td>\n",
       "      <td>RU</td>\n",
       "      <td>1608389842</td>\n",
       "    </tr>\n",
       "    <tr>\n",
       "      <th>2</th>\n",
       "      <td>yinchuan</td>\n",
       "      <td>38.47</td>\n",
       "      <td>106.27</td>\n",
       "      <td>20.93</td>\n",
       "      <td>77</td>\n",
       "      <td>0</td>\n",
       "      <td>2.64</td>\n",
       "      <td>CN</td>\n",
       "      <td>1608389843</td>\n",
       "    </tr>\n",
       "    <tr>\n",
       "      <th>3</th>\n",
       "      <td>council bluffs</td>\n",
       "      <td>41.26</td>\n",
       "      <td>-95.86</td>\n",
       "      <td>19.40</td>\n",
       "      <td>78</td>\n",
       "      <td>75</td>\n",
       "      <td>8.05</td>\n",
       "      <td>US</td>\n",
       "      <td>1608389738</td>\n",
       "    </tr>\n",
       "    <tr>\n",
       "      <th>4</th>\n",
       "      <td>lashio</td>\n",
       "      <td>22.93</td>\n",
       "      <td>97.75</td>\n",
       "      <td>55.40</td>\n",
       "      <td>76</td>\n",
       "      <td>1</td>\n",
       "      <td>1.79</td>\n",
       "      <td>MM</td>\n",
       "      <td>1608389843</td>\n",
       "    </tr>\n",
       "    <tr>\n",
       "      <th>8</th>\n",
       "      <td>saskylakh</td>\n",
       "      <td>71.92</td>\n",
       "      <td>114.08</td>\n",
       "      <td>-37.19</td>\n",
       "      <td>80</td>\n",
       "      <td>30</td>\n",
       "      <td>9.10</td>\n",
       "      <td>RU</td>\n",
       "      <td>1608389843</td>\n",
       "    </tr>\n",
       "  </tbody>\n",
       "</table>\n",
       "</div>"
      ],
      "text/plain": [
       "             City    Lat     Lng  Max Temp  Humidity  Cloudiness  Wind Speed  \\\n",
       "0        taseyevo  57.22   94.90     20.91        96         100       11.21   \n",
       "2        yinchuan  38.47  106.27     20.93        77           0        2.64   \n",
       "3  council bluffs  41.26  -95.86     19.40        78          75        8.05   \n",
       "4          lashio  22.93   97.75     55.40        76           1        1.79   \n",
       "8       saskylakh  71.92  114.08    -37.19        80          30        9.10   \n",
       "\n",
       "  Country        Date  \n",
       "0      RU  1608389842  \n",
       "2      CN  1608389843  \n",
       "3      US  1608389738  \n",
       "4      MM  1608389843  \n",
       "8      RU  1608389843  "
      ]
     },
     "execution_count": 59,
     "metadata": {},
     "output_type": "execute_result"
    }
   ],
   "source": [
    "weather_df[\"Lat\"] = pd.to_numeric(weather_df[\"Lat\"])\n",
    "\n",
    "northern_df = weather_df.loc[weather_df[\"Lat\"] >= 0]\n",
    "southern_df = weather_df.loc[weather_df[\"Lat\"] < 0]\n",
    "\n",
    "northern_df.head()"
   ]
  },
  {
   "cell_type": "markdown",
   "metadata": {},
   "source": [
    "####  Northern Hemisphere - Max Temp vs. Latitude Linear Regression"
   ]
  },
  {
   "cell_type": "code",
   "execution_count": 113,
   "metadata": {},
   "outputs": [
    {
     "name": "stdout",
     "output_type": "stream",
     "text": [
      "The r-value is: -0.8666456207009338\n"
     ]
    },
    {
     "data": {
      "image/png": "[encoded data removed]",
      "text/plain": [
       "<Figure size 432x288 with 1 Axes>"
      ]
     },
     "metadata": {
      "needs_background": "light"
     },
     "output_type": "display_data"
    }
   ],
   "source": [
    "northern_lat = northern_df[\"Lat\"]\n",
    "northern_temp = northern_df[\"Max Temp\"]\n",
    "\n",
    "n_slope, n_int, n_r, n_p, n_std_err = stats.linregress(northern_lat, northern_temp)\n",
    "n_fit = n_slope * northern_lat + n_int\n",
    "line_eq = \"y = \" + str(round(n_slope,2)) + \"x + \" + str(round(n_int,2))\n",
    "\n",
    "plt.scatter(northern_lat,northern_temp,color ='grey')\n",
    "plt.plot(northern_lat,n_fit,\"r-\", color='darkorange')\n",
    "plt.annotate(line_eq,(10,-10),fontsize=12, color=\"navy\")\n",
    "plt.ylabel('Max Temp (F)')\n",
    "plt.xlabel('Latitude')\n",
    "plt.title('Latitude vs Max Temp (Northern Hemisphere)')\n",
    "\n",
    "print(f\"The r-value is: {n_r}\")\n",
    "\n",
    "plt.savefig(\"Latitude vs Max Temp (Northern Hemisphere).png\")\n",
    "plt.show()"
   ]
  },
  {
   "cell_type": "markdown",
   "metadata": {},
   "source": [
    "####  Southern Hemisphere - Max Temp vs. Latitude Linear Regression"
   ]
  },
  {
   "cell_type": "code",
   "execution_count": 112,
   "metadata": {},
   "outputs": [
    {
     "name": "stdout",
     "output_type": "stream",
     "text": [
      "The r-value is: 0.584488135825589\n"
     ]
    },
    {
     "data": {
      "image/png": "[encoded data removed]",
      "text/plain": [
       "<Figure size 432x288 with 1 Axes>"
      ]
     },
     "metadata": {
      "needs_background": "light"
     },
     "output_type": "display_data"
    }
   ],
   "source": [
    "southern_lat = southern_df[\"Lat\"]\n",
    "southern_humidity = southern_df[\"Max Temp\"]\n",
    "\n",
    "sh_slope, sh_int, sh_r, sh_p, sh_std_err = stats.linregress(southern_lat, southern_humidity)\n",
    "sh_fit = sh_slope * southern_lat + sh_int\n",
    "line_eq = \"y = \" + str(round(sh_slope,2)) + \"x + \" + str(round(sh_int,2))\n",
    "\n",
    "plt.scatter(southern_lat,southern_humidity, color=\"grey\")\n",
    "plt.plot(southern_lat,sh_fit,\"r-\", color=\"darkorange\")\n",
    "plt.annotate(line_eq,(-20,50),fontsize=12,color=\"navy\")\n",
    "plt.ylabel('Humidity (%)')\n",
    "plt.xlabel('Latitude')\n",
    "plt.title('Latitude vs Max Temp (Southern Hemisphere)')\n",
    "\n",
    "print(f\"The r-value is: {sh_r}\")\n",
    "\n",
    "plt.savefig(\"Latitude vs Max Temp (Southern Hemisphere).png\")\n",
    "plt.show()"
   ]
  },
  {
   "cell_type": "markdown",
   "metadata": {},
   "source": [
    "####  Northern Hemisphere - Humidity (%) vs. Latitude Linear Regression"
   ]
  },
  {
   "cell_type": "code",
   "execution_count": 114,
   "metadata": {},
   "outputs": [
    {
     "name": "stdout",
     "output_type": "stream",
     "text": [
      "The r-value is: 0.4246728913434407\n"
     ]
    },
    {
     "data": {
      "image/png": "[encoded data removed]",
      "text/plain": [
       "<Figure size 432x288 with 1 Axes>"
      ]
     },
     "metadata": {
      "needs_background": "light"
     },
     "output_type": "display_data"
    }
   ],
   "source": [
    "northern_lat = northern_df[\"Lat\"]\n",
    "northern_humidity = northern_df[\"Humidity\"]\n",
    "\n",
    "nh_slope, nh_int, nh_r, nh_p, nh_std_err = stats.linregress(northern_lat, northern_humidity)\n",
    "nh_fit = nh_slope * northern_lat + nh_int\n",
    "line_eq = \"y = \" + str(round(nh_slope,2)) + \"x + \" + str(round(nh_int,2))\n",
    "\n",
    "plt.scatter(northern_lat,northern_humidity, color=\"grey\")\n",
    "plt.plot(northern_lat,nh_fit,\"r-\", color='darkorange')\n",
    "plt.annotate(line_eq,(40,30),fontsize=12,color=\"navy\")\n",
    "plt.ylabel('Humidity (%)')\n",
    "plt.xlabel('Latitude')\n",
    "plt.title('Latitude v Humidity (Northern Hemisphere)')\n",
    "\n",
    "print(f\"The r-value is: {nh_r}\")\n",
    "\n",
    "plt.savefig(\"Latitude vs Humidity (Northern Hemisphere).png\")\n",
    "plt.show()\n"
   ]
  },
  {
   "cell_type": "markdown",
   "metadata": {},
   "source": [
    "####  Southern Hemisphere - Humidity (%) vs. Latitude Linear Regression"
   ]
  },
  {
   "cell_type": "code",
   "execution_count": 115,
   "metadata": {},
   "outputs": [
    {
     "name": "stdout",
     "output_type": "stream",
     "text": [
      "The r-value is: 0.031363157244245515\n"
     ]
    },
    {
     "data": {
      "image/png": "[encoded data removed]",
      "text/plain": [
       "<Figure size 432x288 with 1 Axes>"
      ]
     },
     "metadata": {
      "needs_background": "light"
     },
     "output_type": "display_data"
    }
   ],
   "source": [
    "southern_lat = southern_df[\"Lat\"]\n",
    "southern_humidity = southern_df[\"Humidity\"]\n",
    "\n",
    "sh_slope, sh_int, sh_r, sh_p, sh_std_err = stats.linregress(southern_lat, southern_humidity)\n",
    "sh_fit = sh_slope * southern_lat + sh_int\n",
    "line_eq = \"y = \" + str(round(sh_slope,2)) + \"x + \" + str(round(sh_int,2))\n",
    "\n",
    "plt.scatter(southern_lat,southern_humidity, color='grey')\n",
    "plt.plot(southern_lat,sh_fit,\"r-\", color='darkorange')\n",
    "plt.annotate(line_eq,(-55,30),fontsize=12,color=\"navy\")\n",
    "plt.ylabel('Humidity (%)')\n",
    "plt.xlabel('Latitude')\n",
    "plt.title('Latitude vs Humidity (Southern Hemisphere)')\n",
    "\n",
    "print(f\"The r-value is: {sh_r}\")\n",
    "\n",
    "plt.savefig(\"Latitude vs Humidity (Southern Hemisphere).png\")\n",
    "plt.show()"
   ]
  },
  {
   "cell_type": "markdown",
   "metadata": {},
   "source": [
    "####  Northern Hemisphere - Cloudiness (%) vs. Latitude Linear Regression"
   ]
  },
  {
   "cell_type": "code",
   "execution_count": 133,
   "metadata": {},
   "outputs": [
    {
     "name": "stdout",
     "output_type": "stream",
     "text": [
      "The r-value is: 0.27940626088523496\n"
     ]
    },
    {
     "data": {
      "image/png": "[encoded data removed]",
      "text/plain": [
       "<Figure size 432x288 with 1 Axes>"
      ]
     },
     "metadata": {
      "needs_background": "light"
     },
     "output_type": "display_data"
    }
   ],
   "source": [
    "northern_lat = northern_df[\"Lat\"]\n",
    "northern_cloud = northern_df[\"Cloudiness\"]\n",
    "\n",
    "nc_slope, nc_int, nc_r, nc_p, nc_std_err = stats.linregress(northern_lat, northern_cloud)\n",
    "nc_fit = nh_slope * northern_lat + nc_int\n",
    "line_eq = \"y = \" + str(round(nc_slope,2)) + \"x + \" + str(round(nc_int,2))\n",
    "\n",
    "plt.scatter(northern_lat,northern_cloud, color=\"grey\")\n",
    "plt.plot(northern_lat,nh_fit,\"r-\", color=\"darkorange\")\n",
    "plt.annotate(line_eq,(80,0),fontsize=15,color=\"navy\")\n",
    "plt.ylabel('Cloudiness (%)')\n",
    "plt.xlabel('Latitude')\n",
    "plt.title('Latitude vs Cloudiness (Northern Hemisphere)')\n",
    "\n",
    "print(f\"The r-value is: {nc_r}\")\n",
    "\n",
    "plt.savefig(\"Latitude vs Cloudiness (Northern Hemisphere).png\")\n",
    "plt.show()"
   ]
  },
  {
   "cell_type": "markdown",
   "metadata": {},
   "source": [
    "####  Southern Hemisphere - Cloudiness (%) vs. Latitude Linear Regression"
   ]
  },
  {
   "cell_type": "code",
   "execution_count": 134,
   "metadata": {},
   "outputs": [
    {
     "name": "stdout",
     "output_type": "stream",
     "text": [
      "The r-value is: 0.16587737865576563\n"
     ]
    },
    {
     "data": {
      "image/png": "[encoded data removed]",
      "text/plain": [
       "<Figure size 432x288 with 1 Axes>"
      ]
     },
     "metadata": {
      "needs_background": "light"
     },
     "output_type": "display_data"
    }
   ],
   "source": [
    "southern_lat = southern_df[\"Lat\"]\n",
    "southern_cloud = southern_df[\"Cloudiness\"]\n",
    "\n",
    "sc_slope, sc_int, sc_r, sc_p, sc_std_err = stats.linregress(southern_lat, southern_cloud)\n",
    "sc_fit = sc_slope * southern_lat + sc_int\n",
    "line_eq = \"y = \" + str(round(sc_slope,2)) + \"x + \" + str(round(sc_int,2))\n",
    "\n",
    "plt.scatter(southern_lat,southern_cloud, color=\"grey\")\n",
    "plt.plot(southern_lat,sc_fit,\"r-\", color=\"darkorange\")\n",
    "plt.annotate(line_eq,(-55,5),fontsize=15,color=\"navy\")\n",
    "plt.ylabel('Cloudiness (%)')\n",
    "plt.xlabel('Latitude')\n",
    "plt.title('Latitude vs Cloudiness (Southern Hemisphere)')\n",
    "\n",
    "print(f\"The r-value is: {sc_r}\")\n",
    "\n",
    "plt.savefig(\"Latitude vs Cloudiness (Southern Hemisphere).png\")\n",
    "plt.show()"
   ]
  },
  {
   "cell_type": "markdown",
   "metadata": {},
   "source": [
    "####  Northern Hemisphere - Wind Speed (mph) vs. Latitude Linear Regression"
   ]
  },
  {
   "cell_type": "code",
   "execution_count": 136,
   "metadata": {},
   "outputs": [
    {
     "name": "stdout",
     "output_type": "stream",
     "text": [
      "The r-value is: 0.08922771044482296\n"
     ]
    },
    {
     "data": {
      "image/png": "[encoded data removed]",
      "text/plain": [
       "<Figure size 432x288 with 1 Axes>"
      ]
     },
     "metadata": {
      "needs_background": "light"
     },
     "output_type": "display_data"
    }
   ],
   "source": [
    "northern_lat = northern_df[\"Lat\"]\n",
    "northern_wind = northern_df[\"Wind Speed\"]\n",
    "\n",
    "nw_slope, nw_int, nw_r, nw_p, nw_std_err = stats.linregress(northern_lat, northern_wind)\n",
    "nw_fit = nw_slope * northern_lat + nw_int\n",
    "line_eq = \"y = \" + str(round(nw_slope,2)) + \"x + \" + str(round(nw_int,2))\n",
    "\n",
    "plt.scatter(northern_lat,northern_wind,color=\"grey\")\n",
    "plt.plot(northern_lat,nw_fit,\"r-\",color='darkorange')\n",
    "plt.annotate(line_eq,(0,35),fontsize=15,color=\"navy\")\n",
    "plt.ylabel('Wind Speed (MPH)')\n",
    "plt.xlabel('Latitude')\n",
    "plt.title('Latitude vs Wind Speed (Northern Hemisphere)')\n",
    "\n",
    "print(f\"The r-value is: {nw_r}\")\n",
    "\n",
    "plt.savefig(\"Latitude vs Cloudiness (Northern Hemisphere).png\")\n",
    "plt.show()"
   ]
  },
  {
   "cell_type": "markdown",
   "metadata": {},
   "source": [
    "####  Southern Hemisphere - Wind Speed (mph) vs. Latitude Linear Regression"
   ]
  },
  {
   "cell_type": "code",
   "execution_count": 139,
   "metadata": {},
   "outputs": [
    {
     "name": "stdout",
     "output_type": "stream",
     "text": [
      "The r-value is: -0.17669085656352648\n"
     ]
    },
    {
     "data": {
      "image/png": "[encoded data removed]",
      "text/plain": [
       "<Figure size 432x288 with 1 Axes>"
      ]
     },
     "metadata": {
      "needs_background": "light"
     },
     "output_type": "display_data"
    }
   ],
   "source": [
    "southern_lat = southern_df[\"Lat\"]\n",
    "southern_wind = southern_df[\"Wind Speed\"]\n",
    "\n",
    "sw_slope, sw_int, sw_r, sc_p, sw_std_err = stats.linregress(southern_lat, southern_wind)\n",
    "sw_fit = sw_slope * southern_lat + sw_int\n",
    "line_eq = \"y = \" + str(round(sw_slope,2)) + \"x + \" + str(round(sw_int,2))\n",
    "\n",
    "plt.scatter(southern_lat,southern_wind,color=\"silver\")\n",
    "plt.plot(southern_lat,sw_fit,\"r-\", color=\"darkorange\")\n",
    "plt.annotate(line_eq,(-55,25),fontsize=15,color=\"navy\")\n",
    "plt.ylabel('Wind Speed (MPH)')\n",
    "plt.xlabel('Latitude')\n",
    "plt.title('Latitude vs Wind Speed (Southern Hemisphere)')\n",
    "\n",
    "print(f\"The r-value is: {sw_r}\")\n",
    "\n",
    "plt.savefig(\"Latitude vs Wind Speed (Southern Hemisphere).png\")\n",
    "plt.show()"
   ]
  },
  {
   "cell_type": "code",
   "execution_count": 1,
   "metadata": {},
   "outputs": [
    {
     "ename": "NameError",
     "evalue": "name 'pandas' is not defined",
     "output_type": "error",
     "traceback": [
      "\u001b[1;31m---------------------------------------------------------------------------\u001b[0m",
      "\u001b[1;31mNameError\u001b[0m                                 Traceback (most recent call last)",
      "\u001b[1;32m<ipython-input-1-ad1b9b019aee>\u001b[0m in \u001b[0;36m<module>\u001b[1;34m\u001b[0m\n\u001b[1;32m----> 1\u001b[1;33m \u001b[0mfile\u001b[0m \u001b[1;33m=\u001b[0m \u001b[0mpandas\u001b[0m\u001b[1;33m.\u001b[0m\u001b[0mread_csv\u001b[0m\u001b[1;33m(\u001b[0m\u001b[1;34m\"cities.csv\"\u001b[0m\u001b[1;33m)\u001b[0m\u001b[1;33m\u001b[0m\u001b[1;33m\u001b[0m\u001b[0m\n\u001b[0m",
      "\u001b[1;31mNameError\u001b[0m: name 'pandas' is not defined"
     ]
    }
   ],
   "source": [
    "\n",
    "file = pandas.read_csv(\"cities.csv\")\n"
   ]
  },
  {
   "cell_type": "code",
   "execution_count": null,
   "metadata": {},
   "outputs": [],
   "source": []
  }
 ],
 "metadata": {
  "anaconda-cloud": {},
  "kernel_info": {
   "name": "python3"
  },
  "kernelspec": {
   "display_name": "Python 3",
   "language": "python",
   "name": "python3"
  },
  "language_info": {
   "codemirror_mode": {
    "name": "ipython",
    "version": 3
   },
   "file_extension": ".py",
   "mimetype": "text/x-python",
   "name": "python",
   "nbconvert_exporter": "python",
   "pygments_lexer": "ipython3",
   "version": "3.8.3"
  },
  "latex_envs": {
   "LaTeX_envs_menu_present": true,
   "autoclose": false,
   "autocomplete": true,
   "bibliofile": "biblio.bib",
   "cite_by": "apalike",
   "current_citInitial": 1,
   "eqLabelWithNumbers": true,
   "eqNumInitial": 1,
   "hotkeys": {
    "equation": "Ctrl-E",
    "itemize": "Ctrl-I"
   },
   "labels_anchors": false,
   "latex_user_defs": false,
   "report_style_numbering": false,
   "user_envs_cfg": false
  },
  "nteract": {
   "version": "0.12.3"
  }
 },
 "nbformat": 4,
 "nbformat_minor": 2
}
